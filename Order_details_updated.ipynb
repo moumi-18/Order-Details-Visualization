{
 "cells": [
  {
   "cell_type": "markdown",
   "metadata": {},
   "source": [
    "### Importing Libraries"
   ]
  },
  {
   "cell_type": "code",
   "execution_count": 1,
   "metadata": {},
   "outputs": [],
   "source": [
    "import pandas as pd\n",
    "import numpy as np\n",
    "import matplotlib.pyplot as plt\n",
    "import seaborn as sns"
   ]
  },
  {
   "cell_type": "code",
   "execution_count": 2,
   "metadata": {},
   "outputs": [
    {
     "name": "stdout",
     "output_type": "stream",
     "text": [
      "<class 'pandas.core.frame.DataFrame'>\n",
      "RangeIndex: 1021 entries, 0 to 1020\n",
      "Data columns (total 16 columns):\n",
      "Order_ID                1021 non-null int64\n",
      "Order_Date              1021 non-null object\n",
      "Order_Priority          1021 non-null object\n",
      "Customer_ID             1021 non-null int64\n",
      "Product_Category        1021 non-null object\n",
      "Product_Name            1021 non-null object\n",
      "City                    1021 non-null object\n",
      "Ship_Mode               1021 non-null object\n",
      "Ship_Date               1021 non-null object\n",
      "Discount                1021 non-null float64\n",
      "Unit_Price              1021 non-null float64\n",
      "Quantity_ordered_new    1021 non-null int64\n",
      "Product_Base_Margin     1011 non-null float64\n",
      "Shipping_Cost           1021 non-null float64\n",
      "Sales                   1021 non-null float64\n",
      "Profit                  1021 non-null float64\n",
      "dtypes: float64(6), int64(3), object(7)\n",
      "memory usage: 127.7+ KB\n"
     ]
    }
   ],
   "source": [
    "order_data = pd.read_csv(r\"C:\\Users\\RONALD\\Desktop\\MOUMITA\\Study\\Data Science\\IMS PROSCHOOL - Business Analytics\\Dataset\\Order Details.csv\")\n",
    "order_data.info()"
   ]
  },
  {
   "cell_type": "code",
   "execution_count": 3,
   "metadata": {},
   "outputs": [
    {
     "data": {
      "text/html": [
       "<div>\n",
       "<style scoped>\n",
       "    .dataframe tbody tr th:only-of-type {\n",
       "        vertical-align: middle;\n",
       "    }\n",
       "\n",
       "    .dataframe tbody tr th {\n",
       "        vertical-align: top;\n",
       "    }\n",
       "\n",
       "    .dataframe thead th {\n",
       "        text-align: right;\n",
       "    }\n",
       "</style>\n",
       "<table border=\"1\" class=\"dataframe\">\n",
       "  <thead>\n",
       "    <tr style=\"text-align: right;\">\n",
       "      <th></th>\n",
       "      <th>Order_ID</th>\n",
       "      <th>Customer_ID</th>\n",
       "      <th>Discount</th>\n",
       "      <th>Unit_Price</th>\n",
       "      <th>Quantity_ordered_new</th>\n",
       "      <th>Product_Base_Margin</th>\n",
       "      <th>Shipping_Cost</th>\n",
       "      <th>Sales</th>\n",
       "      <th>Profit</th>\n",
       "    </tr>\n",
       "  </thead>\n",
       "  <tbody>\n",
       "    <tr>\n",
       "      <th>count</th>\n",
       "      <td>1021.000000</td>\n",
       "      <td>1021.000000</td>\n",
       "      <td>1021.000000</td>\n",
       "      <td>1021.000000</td>\n",
       "      <td>1021.000000</td>\n",
       "      <td>1011.000000</td>\n",
       "      <td>1021.000000</td>\n",
       "      <td>1021.000000</td>\n",
       "      <td>1021.00000</td>\n",
       "    </tr>\n",
       "    <tr>\n",
       "      <th>mean</th>\n",
       "      <td>74742.325171</td>\n",
       "      <td>1533.821743</td>\n",
       "      <td>0.051205</td>\n",
       "      <td>98.370069</td>\n",
       "      <td>17.418217</td>\n",
       "      <td>0.513650</td>\n",
       "      <td>13.297277</td>\n",
       "      <td>1137.826484</td>\n",
       "      <td>84.32751</td>\n",
       "    </tr>\n",
       "    <tr>\n",
       "      <th>std</th>\n",
       "      <td>26151.626125</td>\n",
       "      <td>1000.595688</td>\n",
       "      <td>0.031489</td>\n",
       "      <td>310.116038</td>\n",
       "      <td>20.501230</td>\n",
       "      <td>0.131585</td>\n",
       "      <td>17.287449</td>\n",
       "      <td>3980.549717</td>\n",
       "      <td>1004.57831</td>\n",
       "    </tr>\n",
       "    <tr>\n",
       "      <th>min</th>\n",
       "      <td>359.000000</td>\n",
       "      <td>5.000000</td>\n",
       "      <td>0.000000</td>\n",
       "      <td>1.140000</td>\n",
       "      <td>1.000000</td>\n",
       "      <td>0.350000</td>\n",
       "      <td>0.490000</td>\n",
       "      <td>2.250000</td>\n",
       "      <td>-9078.94000</td>\n",
       "    </tr>\n",
       "    <tr>\n",
       "      <th>25%</th>\n",
       "      <td>86021.000000</td>\n",
       "      <td>699.000000</td>\n",
       "      <td>0.020000</td>\n",
       "      <td>6.480000</td>\n",
       "      <td>5.000000</td>\n",
       "      <td>0.380000</td>\n",
       "      <td>3.500000</td>\n",
       "      <td>66.550000</td>\n",
       "      <td>-68.13750</td>\n",
       "    </tr>\n",
       "    <tr>\n",
       "      <th>50%</th>\n",
       "      <td>87829.000000</td>\n",
       "      <td>1391.000000</td>\n",
       "      <td>0.050000</td>\n",
       "      <td>19.980000</td>\n",
       "      <td>11.000000</td>\n",
       "      <td>0.540000</td>\n",
       "      <td>6.070000</td>\n",
       "      <td>220.830000</td>\n",
       "      <td>0.35000</td>\n",
       "    </tr>\n",
       "    <tr>\n",
       "      <th>75%</th>\n",
       "      <td>89706.000000</td>\n",
       "      <td>2491.000000</td>\n",
       "      <td>0.080000</td>\n",
       "      <td>89.990000</td>\n",
       "      <td>20.000000</td>\n",
       "      <td>0.590000</td>\n",
       "      <td>14.390000</td>\n",
       "      <td>901.890000</td>\n",
       "      <td>109.83600</td>\n",
       "    </tr>\n",
       "    <tr>\n",
       "      <th>max</th>\n",
       "      <td>91585.000000</td>\n",
       "      <td>3388.000000</td>\n",
       "      <td>0.100000</td>\n",
       "      <td>3502.140000</td>\n",
       "      <td>170.000000</td>\n",
       "      <td>0.850000</td>\n",
       "      <td>110.200000</td>\n",
       "      <td>100119.160000</td>\n",
       "      <td>7628.03280</td>\n",
       "    </tr>\n",
       "  </tbody>\n",
       "</table>\n",
       "</div>"
      ],
      "text/plain": [
       "           Order_ID  Customer_ID     Discount   Unit_Price  \\\n",
       "count   1021.000000  1021.000000  1021.000000  1021.000000   \n",
       "mean   74742.325171  1533.821743     0.051205    98.370069   \n",
       "std    26151.626125  1000.595688     0.031489   310.116038   \n",
       "min      359.000000     5.000000     0.000000     1.140000   \n",
       "25%    86021.000000   699.000000     0.020000     6.480000   \n",
       "50%    87829.000000  1391.000000     0.050000    19.980000   \n",
       "75%    89706.000000  2491.000000     0.080000    89.990000   \n",
       "max    91585.000000  3388.000000     0.100000  3502.140000   \n",
       "\n",
       "       Quantity_ordered_new  Product_Base_Margin  Shipping_Cost  \\\n",
       "count           1021.000000          1011.000000    1021.000000   \n",
       "mean              17.418217             0.513650      13.297277   \n",
       "std               20.501230             0.131585      17.287449   \n",
       "min                1.000000             0.350000       0.490000   \n",
       "25%                5.000000             0.380000       3.500000   \n",
       "50%               11.000000             0.540000       6.070000   \n",
       "75%               20.000000             0.590000      14.390000   \n",
       "max              170.000000             0.850000     110.200000   \n",
       "\n",
       "               Sales      Profit  \n",
       "count    1021.000000  1021.00000  \n",
       "mean     1137.826484    84.32751  \n",
       "std      3980.549717  1004.57831  \n",
       "min         2.250000 -9078.94000  \n",
       "25%        66.550000   -68.13750  \n",
       "50%       220.830000     0.35000  \n",
       "75%       901.890000   109.83600  \n",
       "max    100119.160000  7628.03280  "
      ]
     },
     "execution_count": 3,
     "metadata": {},
     "output_type": "execute_result"
    }
   ],
   "source": [
    "order_data.describe()"
   ]
  },
  {
   "cell_type": "code",
   "execution_count": 4,
   "metadata": {},
   "outputs": [
    {
     "data": {
      "text/plain": [
       "Index(['Order_Date', 'Order_Priority', 'Product_Category', 'Product_Name',\n",
       "       'City', 'Ship_Mode', 'Ship_Date', 'Discount', 'Unit_Price',\n",
       "       'Quantity_ordered_new', 'Product_Base_Margin', 'Shipping_Cost', 'Sales',\n",
       "       'Profit'],\n",
       "      dtype='object')"
      ]
     },
     "execution_count": 4,
     "metadata": {},
     "output_type": "execute_result"
    }
   ],
   "source": [
    "order_data = order_data.drop(['Order_ID','Customer_ID'], axis=1)\n",
    "order_data.columns"
   ]
  },
  {
   "cell_type": "markdown",
   "metadata": {},
   "source": [
    "#### Splitting Dataset as Numerical and Categorical variables"
   ]
  },
  {
   "cell_type": "code",
   "execution_count": 5,
   "metadata": {},
   "outputs": [],
   "source": [
    "order_data_num = order_data[order_data.select_dtypes(include=[np.number]).columns.tolist()]\n",
    "\n",
    "order_data_cat = order_data[order_data.select_dtypes(include=[\"object\"]).columns.tolist()]"
   ]
  },
  {
   "cell_type": "code",
   "execution_count": 6,
   "metadata": {},
   "outputs": [
    {
     "data": {
      "text/plain": [
       "Index(['Discount', 'Unit_Price', 'Quantity_ordered_new', 'Product_Base_Margin',\n",
       "       'Shipping_Cost', 'Sales', 'Profit'],\n",
       "      dtype='object')"
      ]
     },
     "execution_count": 6,
     "metadata": {},
     "output_type": "execute_result"
    }
   ],
   "source": [
    "order_data_num.columns"
   ]
  },
  {
   "cell_type": "code",
   "execution_count": 7,
   "metadata": {},
   "outputs": [
    {
     "data": {
      "text/plain": [
       "Index(['Order_Date', 'Order_Priority', 'Product_Category', 'Product_Name',\n",
       "       'City', 'Ship_Mode', 'Ship_Date'],\n",
       "      dtype='object')"
      ]
     },
     "execution_count": 7,
     "metadata": {},
     "output_type": "execute_result"
    }
   ],
   "source": [
    "order_data_cat.columns"
   ]
  },
  {
   "cell_type": "code",
   "execution_count": 8,
   "metadata": {},
   "outputs": [
    {
     "name": "stdout",
     "output_type": "stream",
     "text": [
      "<class 'pandas.core.frame.DataFrame'>\n",
      "RangeIndex: 1021 entries, 0 to 1020\n",
      "Data columns (total 7 columns):\n",
      "Discount                1021 non-null float64\n",
      "Unit_Price              1021 non-null float64\n",
      "Quantity_ordered_new    1021 non-null int64\n",
      "Product_Base_Margin     1011 non-null float64\n",
      "Shipping_Cost           1021 non-null float64\n",
      "Sales                   1021 non-null float64\n",
      "Profit                  1021 non-null float64\n",
      "dtypes: float64(6), int64(1)\n",
      "memory usage: 55.9 KB\n"
     ]
    }
   ],
   "source": [
    "order_data_num.info()"
   ]
  },
  {
   "cell_type": "markdown",
   "metadata": {},
   "source": [
    "### Checking and treating outliers in Numerical variables using For loop"
   ]
  },
  {
   "cell_type": "code",
   "execution_count": 11,
   "metadata": {},
   "outputs": [
    {
     "name": "stdout",
     "output_type": "stream",
     "text": [
      "###########      Discount      #############\n"
     ]
    },
    {
     "data": {
      "image/png": "[encoded data removed]",
      "text/plain": [
       "<Figure size 432x288 with 1 Axes>"
      ]
     },
     "metadata": {
      "needs_background": "light"
     },
     "output_type": "display_data"
    },
    {
     "name": "stdout",
     "output_type": "stream",
     "text": [
      "Q1= 0.02\n",
      "Q3= 0.08\n",
      "IQR= 0.06\n",
      "Low= -0.06999999999999999\n",
      "High= 0.16999999999999998\n",
      "    \n",
      "    \n",
      "Checking & treating outliers....\n"
     ]
    },
    {
     "name": "stderr",
     "output_type": "stream",
     "text": [
      "C:\\Users\\RONALD\\Anaconda3\\lib\\site-packages\\ipykernel_launcher.py:23: SettingWithCopyWarning: \n",
      "A value is trying to be set on a copy of a slice from a DataFrame.\n",
      "Try using .loc[row_indexer,col_indexer] = value instead\n",
      "\n",
      "See the caveats in the documentation: http://pandas.pydata.org/pandas-docs/stable/indexing.html#indexing-view-versus-copy\n",
      "C:\\Users\\RONALD\\Anaconda3\\lib\\site-packages\\ipykernel_launcher.py:24: SettingWithCopyWarning: \n",
      "A value is trying to be set on a copy of a slice from a DataFrame.\n",
      "Try using .loc[row_indexer,col_indexer] = value instead\n",
      "\n",
      "See the caveats in the documentation: http://pandas.pydata.org/pandas-docs/stable/indexing.html#indexing-view-versus-copy\n"
     ]
    },
    {
     "data": {
      "image/png": "[encoded data removed]",
      "text/plain": [
       "<Figure size 432x288 with 1 Axes>"
      ]
     },
     "metadata": {
      "needs_background": "light"
     },
     "output_type": "display_data"
    },
    {
     "name": "stdout",
     "output_type": "stream",
     "text": [
      "###########      Unit_Price      #############\n"
     ]
    },
    {
     "data": {
      "image/png": "[encoded data removed]",
      "text/plain": [
       "<Figure size 432x288 with 1 Axes>"
      ]
     },
     "metadata": {
      "needs_background": "light"
     },
     "output_type": "display_data"
    },
    {
     "name": "stdout",
     "output_type": "stream",
     "text": [
      "Q1= 6.48\n",
      "Q3= 89.99\n",
      "IQR= 83.50999999999999\n",
      "Low= -118.78499999999998\n",
      "High= 215.255\n",
      "    \n",
      "    \n",
      "Checking & treating outliers....\n"
     ]
    },
    {
     "name": "stderr",
     "output_type": "stream",
     "text": [
      "C:\\Users\\RONALD\\Anaconda3\\lib\\site-packages\\ipykernel_launcher.py:23: SettingWithCopyWarning: \n",
      "A value is trying to be set on a copy of a slice from a DataFrame.\n",
      "Try using .loc[row_indexer,col_indexer] = value instead\n",
      "\n",
      "See the caveats in the documentation: http://pandas.pydata.org/pandas-docs/stable/indexing.html#indexing-view-versus-copy\n",
      "C:\\Users\\RONALD\\Anaconda3\\lib\\site-packages\\ipykernel_launcher.py:24: SettingWithCopyWarning: \n",
      "A value is trying to be set on a copy of a slice from a DataFrame.\n",
      "Try using .loc[row_indexer,col_indexer] = value instead\n",
      "\n",
      "See the caveats in the documentation: http://pandas.pydata.org/pandas-docs/stable/indexing.html#indexing-view-versus-copy\n"
     ]
    },
    {
     "data": {
      "image/png": "[encoded data removed]",
      "text/plain": [
       "<Figure size 432x288 with 1 Axes>"
      ]
     },
     "metadata": {
      "needs_background": "light"
     },
     "output_type": "display_data"
    },
    {
     "name": "stdout",
     "output_type": "stream",
     "text": [
      "###########      Quantity_ordered_new      #############\n"
     ]
    },
    {
     "data": {
      "image/png": "[encoded data removed]",
      "text/plain": [
       "<Figure size 432x288 with 1 Axes>"
      ]
     },
     "metadata": {
      "needs_background": "light"
     },
     "output_type": "display_data"
    },
    {
     "name": "stdout",
     "output_type": "stream",
     "text": [
      "Q1= 5.0\n",
      "Q3= 20.0\n",
      "IQR= 15.0\n",
      "Low= -17.5\n",
      "High= 42.5\n",
      "    \n",
      "    \n",
      "Checking & treating outliers....\n"
     ]
    },
    {
     "name": "stderr",
     "output_type": "stream",
     "text": [
      "C:\\Users\\RONALD\\Anaconda3\\lib\\site-packages\\ipykernel_launcher.py:23: SettingWithCopyWarning: \n",
      "A value is trying to be set on a copy of a slice from a DataFrame.\n",
      "Try using .loc[row_indexer,col_indexer] = value instead\n",
      "\n",
      "See the caveats in the documentation: http://pandas.pydata.org/pandas-docs/stable/indexing.html#indexing-view-versus-copy\n",
      "C:\\Users\\RONALD\\Anaconda3\\lib\\site-packages\\ipykernel_launcher.py:24: SettingWithCopyWarning: \n",
      "A value is trying to be set on a copy of a slice from a DataFrame.\n",
      "Try using .loc[row_indexer,col_indexer] = value instead\n",
      "\n",
      "See the caveats in the documentation: http://pandas.pydata.org/pandas-docs/stable/indexing.html#indexing-view-versus-copy\n"
     ]
    },
    {
     "data": {
      "image/png": "[encoded data removed]",
      "text/plain": [
       "<Figure size 432x288 with 1 Axes>"
      ]
     },
     "metadata": {
      "needs_background": "light"
     },
     "output_type": "display_data"
    },
    {
     "name": "stdout",
     "output_type": "stream",
     "text": [
      "###########      Product_Base_Margin      #############\n"
     ]
    },
    {
     "data": {
      "image/png": "[encoded data removed]",
      "text/plain": [
       "<Figure size 432x288 with 1 Axes>"
      ]
     },
     "metadata": {
      "needs_background": "light"
     },
     "output_type": "display_data"
    },
    {
     "name": "stdout",
     "output_type": "stream",
     "text": [
      "Q1= 0.38\n",
      "Q3= 0.59\n",
      "IQR= 0.20999999999999996\n",
      "Low= 0.06500000000000006\n",
      "High= 0.9049999999999999\n",
      "    \n",
      "    \n",
      "Checking & treating outliers....\n"
     ]
    },
    {
     "name": "stderr",
     "output_type": "stream",
     "text": [
      "C:\\Users\\RONALD\\Anaconda3\\lib\\site-packages\\ipykernel_launcher.py:23: SettingWithCopyWarning: \n",
      "A value is trying to be set on a copy of a slice from a DataFrame.\n",
      "Try using .loc[row_indexer,col_indexer] = value instead\n",
      "\n",
      "See the caveats in the documentation: http://pandas.pydata.org/pandas-docs/stable/indexing.html#indexing-view-versus-copy\n",
      "C:\\Users\\RONALD\\Anaconda3\\lib\\site-packages\\ipykernel_launcher.py:24: SettingWithCopyWarning: \n",
      "A value is trying to be set on a copy of a slice from a DataFrame.\n",
      "Try using .loc[row_indexer,col_indexer] = value instead\n",
      "\n",
      "See the caveats in the documentation: http://pandas.pydata.org/pandas-docs/stable/indexing.html#indexing-view-versus-copy\n"
     ]
    },
    {
     "data": {
      "image/png": "[encoded data removed]",
      "text/plain": [
       "<Figure size 432x288 with 1 Axes>"
      ]
     },
     "metadata": {
      "needs_background": "light"
     },
     "output_type": "display_data"
    },
    {
     "name": "stdout",
     "output_type": "stream",
     "text": [
      "###########      Shipping_Cost      #############\n"
     ]
    },
    {
     "data": {
      "image/png": "[encoded data removed]",
      "text/plain": [
       "<Figure size 432x288 with 1 Axes>"
      ]
     },
     "metadata": {
      "needs_background": "light"
     },
     "output_type": "display_data"
    },
    {
     "name": "stdout",
     "output_type": "stream",
     "text": [
      "Q1= 3.5\n",
      "Q3= 14.39\n",
      "IQR= 10.89\n",
      "Low= -12.835\n",
      "High= 30.725\n",
      "    \n",
      "    \n",
      "Checking & treating outliers....\n"
     ]
    },
    {
     "name": "stderr",
     "output_type": "stream",
     "text": [
      "C:\\Users\\RONALD\\Anaconda3\\lib\\site-packages\\ipykernel_launcher.py:23: SettingWithCopyWarning: \n",
      "A value is trying to be set on a copy of a slice from a DataFrame.\n",
      "Try using .loc[row_indexer,col_indexer] = value instead\n",
      "\n",
      "See the caveats in the documentation: http://pandas.pydata.org/pandas-docs/stable/indexing.html#indexing-view-versus-copy\n",
      "C:\\Users\\RONALD\\Anaconda3\\lib\\site-packages\\ipykernel_launcher.py:24: SettingWithCopyWarning: \n",
      "A value is trying to be set on a copy of a slice from a DataFrame.\n",
      "Try using .loc[row_indexer,col_indexer] = value instead\n",
      "\n",
      "See the caveats in the documentation: http://pandas.pydata.org/pandas-docs/stable/indexing.html#indexing-view-versus-copy\n"
     ]
    },
    {
     "data": {
      "image/png": "[encoded data removed]",
      "text/plain": [
       "<Figure size 432x288 with 1 Axes>"
      ]
     },
     "metadata": {
      "needs_background": "light"
     },
     "output_type": "display_data"
    },
    {
     "name": "stdout",
     "output_type": "stream",
     "text": [
      "###########      Sales      #############\n"
     ]
    },
    {
     "data": {
      "image/png": "[encoded data removed]",
      "text/plain": [
       "<Figure size 432x288 with 1 Axes>"
      ]
     },
     "metadata": {
      "needs_background": "light"
     },
     "output_type": "display_data"
    },
    {
     "name": "stdout",
     "output_type": "stream",
     "text": [
      "Q1= 66.55\n",
      "Q3= 901.89\n",
      "IQR= 835.34\n",
      "Low= -1186.46\n",
      "High= 2154.9\n",
      "    \n",
      "    \n",
      "Checking & treating outliers....\n"
     ]
    },
    {
     "name": "stderr",
     "output_type": "stream",
     "text": [
      "C:\\Users\\RONALD\\Anaconda3\\lib\\site-packages\\ipykernel_launcher.py:23: SettingWithCopyWarning: \n",
      "A value is trying to be set on a copy of a slice from a DataFrame.\n",
      "Try using .loc[row_indexer,col_indexer] = value instead\n",
      "\n",
      "See the caveats in the documentation: http://pandas.pydata.org/pandas-docs/stable/indexing.html#indexing-view-versus-copy\n",
      "C:\\Users\\RONALD\\Anaconda3\\lib\\site-packages\\ipykernel_launcher.py:24: SettingWithCopyWarning: \n",
      "A value is trying to be set on a copy of a slice from a DataFrame.\n",
      "Try using .loc[row_indexer,col_indexer] = value instead\n",
      "\n",
      "See the caveats in the documentation: http://pandas.pydata.org/pandas-docs/stable/indexing.html#indexing-view-versus-copy\n"
     ]
    },
    {
     "data": {
      "image/png": "[encoded data removed]",
      "text/plain": [
       "<Figure size 432x288 with 1 Axes>"
      ]
     },
     "metadata": {
      "needs_background": "light"
     },
     "output_type": "display_data"
    },
    {
     "name": "stdout",
     "output_type": "stream",
     "text": [
      "###########      Profit      #############\n"
     ]
    },
    {
     "data": {
      "image/png": "[encoded data removed]",
      "text/plain": [
       "<Figure size 432x288 with 1 Axes>"
      ]
     },
     "metadata": {
      "needs_background": "light"
     },
     "output_type": "display_data"
    },
    {
     "name": "stdout",
     "output_type": "stream",
     "text": [
      "Q1= -68.1375\n",
      "Q3= 109.836\n",
      "IQR= 177.9735\n",
      "Low= -335.09774999999996\n",
      "High= 376.79625\n",
      "    \n",
      "    \n",
      "Checking & treating outliers....\n"
     ]
    },
    {
     "name": "stderr",
     "output_type": "stream",
     "text": [
      "C:\\Users\\RONALD\\Anaconda3\\lib\\site-packages\\ipykernel_launcher.py:23: SettingWithCopyWarning: \n",
      "A value is trying to be set on a copy of a slice from a DataFrame.\n",
      "Try using .loc[row_indexer,col_indexer] = value instead\n",
      "\n",
      "See the caveats in the documentation: http://pandas.pydata.org/pandas-docs/stable/indexing.html#indexing-view-versus-copy\n",
      "C:\\Users\\RONALD\\Anaconda3\\lib\\site-packages\\ipykernel_launcher.py:24: SettingWithCopyWarning: \n",
      "A value is trying to be set on a copy of a slice from a DataFrame.\n",
      "Try using .loc[row_indexer,col_indexer] = value instead\n",
      "\n",
      "See the caveats in the documentation: http://pandas.pydata.org/pandas-docs/stable/indexing.html#indexing-view-versus-copy\n"
     ]
    },
    {
     "data": {
      "image/png": "[encoded data removed]",
      "text/plain": [
       "<Figure size 432x288 with 1 Axes>"
      ]
     },
     "metadata": {
      "needs_background": "light"
     },
     "output_type": "display_data"
    }
   ],
   "source": [
    "for i in range(order_data_num.shape[1]):\n",
    "    #print(order_data_num.columns[i])\n",
    "    #order_data_num.columns[i]\n",
    "    col_name = order_data_num.columns[i]\n",
    "    print(\"###########     Column Name: \",col_name,\"     #############\")\n",
    "    ax = sns.boxplot(y = order_data_num.columns[i], data = order_data_num)\n",
    "    plt.show()\n",
    "    \n",
    "    q1 = order_data_num[col_name].quantile(0.25)\n",
    "    q3 = order_data_num[col_name].quantile(0.75)   \n",
    "    iqr = q3-q1\n",
    "    low = q1-1.5*iqr\n",
    "    high = q3+1.5*iqr\n",
    "    print(\"Q1=\",q1)\n",
    "    print(\"Q3=\",q3)\n",
    "    print(\"IQR=\", iqr)\n",
    "    print(\"Low=\", low)\n",
    "    print(\"High=\", high)\n",
    "    print(\"    \")\n",
    "    print(\"    \")\n",
    "    print(\"Checking & treating outliers....\")\n",
    "\n",
    "    order_data_num[col_name] = np.where(order_data_num[col_name] > high, high, order_data_num[col_name])\n",
    "    order_data_num[col_name] = np.where(order_data_num[col_name] < low, low, order_data_num[col_name])\n",
    "    \n",
    "    bx = sns.boxplot(y = order_data_num.columns[i], data = order_data_num)\n",
    "    plt.show()\n",
    "    \n",
    "    \n",
    "    print(\"    \")\n",
    "    print(\"    \")"
   ]
  },
  {
   "cell_type": "markdown",
   "metadata": {},
   "source": [
    "#### Checking for outliers using describe() "
   ]
  },
  {
   "cell_type": "code",
   "execution_count": 12,
   "metadata": {},
   "outputs": [
    {
     "data": {
      "text/html": [
       "<div>\n",
       "<style scoped>\n",
       "    .dataframe tbody tr th:only-of-type {\n",
       "        vertical-align: middle;\n",
       "    }\n",
       "\n",
       "    .dataframe tbody tr th {\n",
       "        vertical-align: top;\n",
       "    }\n",
       "\n",
       "    .dataframe thead th {\n",
       "        text-align: right;\n",
       "    }\n",
       "</style>\n",
       "<table border=\"1\" class=\"dataframe\">\n",
       "  <thead>\n",
       "    <tr style=\"text-align: right;\">\n",
       "      <th></th>\n",
       "      <th>Discount</th>\n",
       "      <th>Unit_Price</th>\n",
       "      <th>Quantity_ordered_new</th>\n",
       "      <th>Product_Base_Margin</th>\n",
       "      <th>Shipping_Cost</th>\n",
       "      <th>Sales</th>\n",
       "      <th>Profit</th>\n",
       "    </tr>\n",
       "  </thead>\n",
       "  <tbody>\n",
       "    <tr>\n",
       "      <th>count</th>\n",
       "      <td>1021.000000</td>\n",
       "      <td>1021.000000</td>\n",
       "      <td>1021.000000</td>\n",
       "      <td>1011.000000</td>\n",
       "      <td>1021.000000</td>\n",
       "      <td>1021.000000</td>\n",
       "      <td>1021.000000</td>\n",
       "    </tr>\n",
       "    <tr>\n",
       "      <th>mean</th>\n",
       "      <td>0.051205</td>\n",
       "      <td>56.299285</td>\n",
       "      <td>15.027424</td>\n",
       "      <td>0.513650</td>\n",
       "      <td>10.518281</td>\n",
       "      <td>623.099354</td>\n",
       "      <td>28.888552</td>\n",
       "    </tr>\n",
       "    <tr>\n",
       "      <th>std</th>\n",
       "      <td>0.031489</td>\n",
       "      <td>69.201177</td>\n",
       "      <td>12.895402</td>\n",
       "      <td>0.131585</td>\n",
       "      <td>10.106067</td>\n",
       "      <td>754.852386</td>\n",
       "      <td>201.585654</td>\n",
       "    </tr>\n",
       "    <tr>\n",
       "      <th>min</th>\n",
       "      <td>0.000000</td>\n",
       "      <td>1.140000</td>\n",
       "      <td>1.000000</td>\n",
       "      <td>0.350000</td>\n",
       "      <td>0.490000</td>\n",
       "      <td>2.250000</td>\n",
       "      <td>-335.097750</td>\n",
       "    </tr>\n",
       "    <tr>\n",
       "      <th>25%</th>\n",
       "      <td>0.020000</td>\n",
       "      <td>6.480000</td>\n",
       "      <td>5.000000</td>\n",
       "      <td>0.380000</td>\n",
       "      <td>3.500000</td>\n",
       "      <td>66.550000</td>\n",
       "      <td>-68.137500</td>\n",
       "    </tr>\n",
       "    <tr>\n",
       "      <th>50%</th>\n",
       "      <td>0.050000</td>\n",
       "      <td>19.980000</td>\n",
       "      <td>11.000000</td>\n",
       "      <td>0.540000</td>\n",
       "      <td>6.070000</td>\n",
       "      <td>220.830000</td>\n",
       "      <td>0.350000</td>\n",
       "    </tr>\n",
       "    <tr>\n",
       "      <th>75%</th>\n",
       "      <td>0.080000</td>\n",
       "      <td>89.990000</td>\n",
       "      <td>20.000000</td>\n",
       "      <td>0.590000</td>\n",
       "      <td>14.390000</td>\n",
       "      <td>901.890000</td>\n",
       "      <td>109.836000</td>\n",
       "    </tr>\n",
       "    <tr>\n",
       "      <th>max</th>\n",
       "      <td>0.100000</td>\n",
       "      <td>215.255000</td>\n",
       "      <td>42.500000</td>\n",
       "      <td>0.850000</td>\n",
       "      <td>30.725000</td>\n",
       "      <td>2154.900000</td>\n",
       "      <td>376.796250</td>\n",
       "    </tr>\n",
       "  </tbody>\n",
       "</table>\n",
       "</div>"
      ],
      "text/plain": [
       "          Discount   Unit_Price  Quantity_ordered_new  Product_Base_Margin  \\\n",
       "count  1021.000000  1021.000000           1021.000000          1011.000000   \n",
       "mean      0.051205    56.299285             15.027424             0.513650   \n",
       "std       0.031489    69.201177             12.895402             0.131585   \n",
       "min       0.000000     1.140000              1.000000             0.350000   \n",
       "25%       0.020000     6.480000              5.000000             0.380000   \n",
       "50%       0.050000    19.980000             11.000000             0.540000   \n",
       "75%       0.080000    89.990000             20.000000             0.590000   \n",
       "max       0.100000   215.255000             42.500000             0.850000   \n",
       "\n",
       "       Shipping_Cost        Sales       Profit  \n",
       "count    1021.000000  1021.000000  1021.000000  \n",
       "mean       10.518281   623.099354    28.888552  \n",
       "std        10.106067   754.852386   201.585654  \n",
       "min         0.490000     2.250000  -335.097750  \n",
       "25%         3.500000    66.550000   -68.137500  \n",
       "50%         6.070000   220.830000     0.350000  \n",
       "75%        14.390000   901.890000   109.836000  \n",
       "max        30.725000  2154.900000   376.796250  "
      ]
     },
     "execution_count": 12,
     "metadata": {},
     "output_type": "execute_result"
    }
   ],
   "source": [
    "order_data_num.describe()\n",
    "###### Verify 1st, 2nd & 3rd standard deviation for outliers post treatment\n",
    "###### unit price => 1st: 125.5004, 2nd:194.701, 3rd:263.902816\n",
    "###### Quantity => 1st: 27.922874, 2nd:40.818228, 3rd:53.71663\n",
    "###### Product Margin => 1st: 0.645235, 2nd:0.77682, 3rd:0.908405 \n",
    "###### Shipping Cost => 1st: 20.624348, 2nd:30.730415, 3rd: 40.836482\n",
    "###### sales=> 1st: 1377.95174, 2nd: 2132.804126, 3rd:2887.656512\n",
    "###### Profit=> 1st: 230.474206, 2nd: 432.05986, 3rd: 633.645514"
   ]
  },
  {
   "cell_type": "markdown",
   "metadata": {},
   "source": [
    "#### Combining Numerical & Categorical Variables datasets to form a new dataset"
   ]
  },
  {
   "cell_type": "code",
   "execution_count": 15,
   "metadata": {},
   "outputs": [
    {
     "data": {
      "text/html": [
       "<div>\n",
       "<style scoped>\n",
       "    .dataframe tbody tr th:only-of-type {\n",
       "        vertical-align: middle;\n",
       "    }\n",
       "\n",
       "    .dataframe tbody tr th {\n",
       "        vertical-align: top;\n",
       "    }\n",
       "\n",
       "    .dataframe thead th {\n",
       "        text-align: right;\n",
       "    }\n",
       "</style>\n",
       "<table border=\"1\" class=\"dataframe\">\n",
       "  <thead>\n",
       "    <tr style=\"text-align: right;\">\n",
       "      <th></th>\n",
       "      <th>Order_Date</th>\n",
       "      <th>Order_Priority</th>\n",
       "      <th>Product_Category</th>\n",
       "      <th>Product_Name</th>\n",
       "      <th>City</th>\n",
       "      <th>Ship_Mode</th>\n",
       "      <th>Ship_Date</th>\n",
       "      <th>Discount</th>\n",
       "      <th>Unit_Price</th>\n",
       "      <th>Quantity_ordered_new</th>\n",
       "      <th>Product_Base_Margin</th>\n",
       "      <th>Shipping_Cost</th>\n",
       "      <th>Sales</th>\n",
       "      <th>Profit</th>\n",
       "    </tr>\n",
       "  </thead>\n",
       "  <tbody>\n",
       "    <tr>\n",
       "      <th>0</th>\n",
       "      <td>13-12-2010</td>\n",
       "      <td>Not Specified</td>\n",
       "      <td>Furniture</td>\n",
       "      <td>Global Troy? Executive Leather Low-Back Tilter</td>\n",
       "      <td>San Gabriel</td>\n",
       "      <td>Delivery Truck</td>\n",
       "      <td>15-12-2010</td>\n",
       "      <td>0.02</td>\n",
       "      <td>215.255</td>\n",
       "      <td>12.0</td>\n",
       "      <td>0.60</td>\n",
       "      <td>26.00</td>\n",
       "      <td>2154.90</td>\n",
       "      <td>376.79625</td>\n",
       "    </tr>\n",
       "    <tr>\n",
       "      <th>1</th>\n",
       "      <td>12-05-2012</td>\n",
       "      <td>Low</td>\n",
       "      <td>Office Supplies</td>\n",
       "      <td>Xerox 1930</td>\n",
       "      <td>San Gabriel</td>\n",
       "      <td>Regular Air</td>\n",
       "      <td>21-05-2012</td>\n",
       "      <td>0.08</td>\n",
       "      <td>6.480</td>\n",
       "      <td>18.0</td>\n",
       "      <td>0.36</td>\n",
       "      <td>6.81</td>\n",
       "      <td>113.25</td>\n",
       "      <td>-141.26000</td>\n",
       "    </tr>\n",
       "    <tr>\n",
       "      <th>2</th>\n",
       "      <td>26-05-2011</td>\n",
       "      <td>High</td>\n",
       "      <td>Office Supplies</td>\n",
       "      <td>Kensington 6 Outlet MasterPiece? HOMEOFFICE Po...</td>\n",
       "      <td>San Jose</td>\n",
       "      <td>Regular Air</td>\n",
       "      <td>26-05-2011</td>\n",
       "      <td>0.01</td>\n",
       "      <td>90.240</td>\n",
       "      <td>16.0</td>\n",
       "      <td>0.56</td>\n",
       "      <td>0.99</td>\n",
       "      <td>1515.17</td>\n",
       "      <td>376.79625</td>\n",
       "    </tr>\n",
       "    <tr>\n",
       "      <th>3</th>\n",
       "      <td>29-12-2012</td>\n",
       "      <td>Critical</td>\n",
       "      <td>Office Supplies</td>\n",
       "      <td>Xerox 21</td>\n",
       "      <td>San Jose</td>\n",
       "      <td>Regular Air</td>\n",
       "      <td>31-12-2012</td>\n",
       "      <td>0.07</td>\n",
       "      <td>6.480</td>\n",
       "      <td>4.0</td>\n",
       "      <td>0.37</td>\n",
       "      <td>6.60</td>\n",
       "      <td>28.61</td>\n",
       "      <td>-13.86000</td>\n",
       "    </tr>\n",
       "    <tr>\n",
       "      <th>4</th>\n",
       "      <td>29-12-2012</td>\n",
       "      <td>Critical</td>\n",
       "      <td>Office Supplies</td>\n",
       "      <td>*Staples* Highlighting Markers</td>\n",
       "      <td>San Jose</td>\n",
       "      <td>Regular Air</td>\n",
       "      <td>31-12-2012</td>\n",
       "      <td>0.01</td>\n",
       "      <td>4.840</td>\n",
       "      <td>17.0</td>\n",
       "      <td>0.52</td>\n",
       "      <td>0.71</td>\n",
       "      <td>83.45</td>\n",
       "      <td>57.58050</td>\n",
       "    </tr>\n",
       "  </tbody>\n",
       "</table>\n",
       "</div>"
      ],
      "text/plain": [
       "   Order_Date Order_Priority Product_Category  \\\n",
       "0  13-12-2010  Not Specified        Furniture   \n",
       "1  12-05-2012            Low  Office Supplies   \n",
       "2  26-05-2011           High  Office Supplies   \n",
       "3  29-12-2012       Critical  Office Supplies   \n",
       "4  29-12-2012       Critical  Office Supplies   \n",
       "\n",
       "                                        Product_Name         City  \\\n",
       "0     Global Troy? Executive Leather Low-Back Tilter  San Gabriel   \n",
       "1                                         Xerox 1930  San Gabriel   \n",
       "2  Kensington 6 Outlet MasterPiece? HOMEOFFICE Po...     San Jose   \n",
       "3                                           Xerox 21     San Jose   \n",
       "4                     *Staples* Highlighting Markers     San Jose   \n",
       "\n",
       "        Ship_Mode   Ship_Date  Discount  Unit_Price  Quantity_ordered_new  \\\n",
       "0  Delivery Truck  15-12-2010      0.02     215.255                  12.0   \n",
       "1     Regular Air  21-05-2012      0.08       6.480                  18.0   \n",
       "2     Regular Air  26-05-2011      0.01      90.240                  16.0   \n",
       "3     Regular Air  31-12-2012      0.07       6.480                   4.0   \n",
       "4     Regular Air  31-12-2012      0.01       4.840                  17.0   \n",
       "\n",
       "   Product_Base_Margin  Shipping_Cost    Sales     Profit  \n",
       "0                 0.60          26.00  2154.90  376.79625  \n",
       "1                 0.36           6.81   113.25 -141.26000  \n",
       "2                 0.56           0.99  1515.17  376.79625  \n",
       "3                 0.37           6.60    28.61  -13.86000  \n",
       "4                 0.52           0.71    83.45   57.58050  "
      ]
     },
     "execution_count": 15,
     "metadata": {},
     "output_type": "execute_result"
    }
   ],
   "source": [
    "order_details = pd.concat([order_data_cat, order_data_num], axis=1)\n",
    "order_details.head()"
   ]
  },
  {
   "cell_type": "markdown",
   "metadata": {},
   "source": [
    "#### Cities with highest orders product-category wise"
   ]
  },
  {
   "cell_type": "code",
   "execution_count": 122,
   "metadata": {},
   "outputs": [
    {
     "data": {
      "text/html": [
       "<div>\n",
       "<style scoped>\n",
       "    .dataframe tbody tr th:only-of-type {\n",
       "        vertical-align: middle;\n",
       "    }\n",
       "\n",
       "    .dataframe tbody tr th {\n",
       "        vertical-align: top;\n",
       "    }\n",
       "\n",
       "    .dataframe thead th {\n",
       "        text-align: right;\n",
       "    }\n",
       "</style>\n",
       "<table border=\"1\" class=\"dataframe\">\n",
       "  <thead>\n",
       "    <tr style=\"text-align: right;\">\n",
       "      <th>Product_Category</th>\n",
       "      <th>Furniture</th>\n",
       "      <th>Office Supplies</th>\n",
       "      <th>Technology</th>\n",
       "      <th>Total</th>\n",
       "    </tr>\n",
       "    <tr>\n",
       "      <th>City</th>\n",
       "      <th></th>\n",
       "      <th></th>\n",
       "      <th></th>\n",
       "      <th></th>\n",
       "    </tr>\n",
       "  </thead>\n",
       "  <tbody>\n",
       "    <tr>\n",
       "      <th>Total</th>\n",
       "      <td>223</td>\n",
       "      <td>576</td>\n",
       "      <td>222</td>\n",
       "      <td>1021</td>\n",
       "    </tr>\n",
       "    <tr>\n",
       "      <th>Los Angeles</th>\n",
       "      <td>43</td>\n",
       "      <td>119</td>\n",
       "      <td>34</td>\n",
       "      <td>196</td>\n",
       "    </tr>\n",
       "    <tr>\n",
       "      <th>San Francisco</th>\n",
       "      <td>9</td>\n",
       "      <td>17</td>\n",
       "      <td>11</td>\n",
       "      <td>37</td>\n",
       "    </tr>\n",
       "    <tr>\n",
       "      <th>San Diego</th>\n",
       "      <td>9</td>\n",
       "      <td>20</td>\n",
       "      <td>7</td>\n",
       "      <td>36</td>\n",
       "    </tr>\n",
       "    <tr>\n",
       "      <th>Twentynine Palms</th>\n",
       "      <td>9</td>\n",
       "      <td>10</td>\n",
       "      <td>3</td>\n",
       "      <td>22</td>\n",
       "    </tr>\n",
       "    <tr>\n",
       "      <th>Menlo Park</th>\n",
       "      <td>4</td>\n",
       "      <td>7</td>\n",
       "      <td>3</td>\n",
       "      <td>14</td>\n",
       "    </tr>\n",
       "    <tr>\n",
       "      <th>Santa Clara</th>\n",
       "      <td>2</td>\n",
       "      <td>10</td>\n",
       "      <td>2</td>\n",
       "      <td>14</td>\n",
       "    </tr>\n",
       "    <tr>\n",
       "      <th>Rancho Cucamonga</th>\n",
       "      <td>2</td>\n",
       "      <td>7</td>\n",
       "      <td>3</td>\n",
       "      <td>12</td>\n",
       "    </tr>\n",
       "    <tr>\n",
       "      <th>Laguna Hills</th>\n",
       "      <td>4</td>\n",
       "      <td>5</td>\n",
       "      <td>2</td>\n",
       "      <td>11</td>\n",
       "    </tr>\n",
       "    <tr>\n",
       "      <th>Hacienda Heights</th>\n",
       "      <td>1</td>\n",
       "      <td>7</td>\n",
       "      <td>3</td>\n",
       "      <td>11</td>\n",
       "    </tr>\n",
       "  </tbody>\n",
       "</table>\n",
       "</div>"
      ],
      "text/plain": [
       "Product_Category  Furniture  Office Supplies  Technology  Total\n",
       "City                                                           \n",
       "Total                   223              576         222   1021\n",
       "Los Angeles              43              119          34    196\n",
       "San Francisco             9               17          11     37\n",
       "San Diego                 9               20           7     36\n",
       "Twentynine Palms          9               10           3     22\n",
       "Menlo Park                4                7           3     14\n",
       "Santa Clara               2               10           2     14\n",
       "Rancho Cucamonga          2                7           3     12\n",
       "Laguna Hills              4                5           2     11\n",
       "Hacienda Heights          1                7           3     11"
      ]
     },
     "execution_count": 122,
     "metadata": {},
     "output_type": "execute_result"
    }
   ],
   "source": [
    "df_city_procat=pd.crosstab(order_details.City,order_details.Product_Category, margins=True, margins_name='Total')\n",
    "df_city_procat.reindex(df_city_procat['Total'].sort_values(ascending=False)[:10].index)"
   ]
  },
  {
   "cell_type": "markdown",
   "metadata": {},
   "source": [
    "#### Category wise Quantities Ordered"
   ]
  },
  {
   "cell_type": "code",
   "execution_count": 108,
   "metadata": {},
   "outputs": [
    {
     "data": {
      "text/plain": [
       "<matplotlib.axes._subplots.AxesSubplot at 0x16734f999e8>"
      ]
     },
     "execution_count": 108,
     "metadata": {},
     "output_type": "execute_result"
    },
    {
     "data": {
      "image/png": "[encoded data removed]",
      "text/plain": [
       "<Figure size 432x288 with 1 Axes>"
      ]
     },
     "metadata": {
      "needs_background": "light"
     },
     "output_type": "display_data"
    }
   ],
   "source": [
    "order_details.groupby('Product_Category').Quantity_ordered_new.count().sort_values(ascending=False)[:5].plot.bar()"
   ]
  },
  {
   "cell_type": "markdown",
   "metadata": {},
   "source": [
    "#### Product Category wise sales figure"
   ]
  },
  {
   "cell_type": "code",
   "execution_count": 102,
   "metadata": {},
   "outputs": [
    {
     "data": {
      "text/plain": [
       "<matplotlib.axes._subplots.AxesSubplot at 0x16734fcd908>"
      ]
     },
     "execution_count": 102,
     "metadata": {},
     "output_type": "execute_result"
    },
    {
     "data": {
      "image/png": "[encoded data removed]",
      "text/plain": [
       "<Figure size 432x288 with 1 Axes>"
      ]
     },
     "metadata": {
      "needs_background": "light"
     },
     "output_type": "display_data"
    }
   ],
   "source": [
    "order_details.groupby('Product_Category').Sales.sum().sort_values(ascending=False)[:5].plot.bar()"
   ]
  },
  {
   "cell_type": "code",
   "execution_count": 17,
   "metadata": {},
   "outputs": [
    {
     "data": {
      "text/html": [
       "<div>\n",
       "<style scoped>\n",
       "    .dataframe tbody tr th:only-of-type {\n",
       "        vertical-align: middle;\n",
       "    }\n",
       "\n",
       "    .dataframe tbody tr th {\n",
       "        vertical-align: top;\n",
       "    }\n",
       "\n",
       "    .dataframe thead tr th {\n",
       "        text-align: left;\n",
       "    }\n",
       "\n",
       "    .dataframe thead tr:last-of-type th {\n",
       "        text-align: right;\n",
       "    }\n",
       "</style>\n",
       "<table border=\"1\" class=\"dataframe\">\n",
       "  <thead>\n",
       "    <tr>\n",
       "      <th></th>\n",
       "      <th></th>\n",
       "      <th>sum</th>\n",
       "    </tr>\n",
       "    <tr>\n",
       "      <th></th>\n",
       "      <th></th>\n",
       "      <th>Sales</th>\n",
       "    </tr>\n",
       "    <tr>\n",
       "      <th>City</th>\n",
       "      <th>Product_Category</th>\n",
       "      <th></th>\n",
       "    </tr>\n",
       "  </thead>\n",
       "  <tbody>\n",
       "    <tr>\n",
       "      <th rowspan=\"2\" valign=\"top\">Anaheim</th>\n",
       "      <th>Office Supplies</th>\n",
       "      <td>2553.62</td>\n",
       "    </tr>\n",
       "    <tr>\n",
       "      <th>Technology</th>\n",
       "      <td>1200.38</td>\n",
       "    </tr>\n",
       "    <tr>\n",
       "      <th rowspan=\"2\" valign=\"top\">Antioch</th>\n",
       "      <th>Furniture</th>\n",
       "      <td>14.49</td>\n",
       "    </tr>\n",
       "    <tr>\n",
       "      <th>Office Supplies</th>\n",
       "      <td>28.46</td>\n",
       "    </tr>\n",
       "    <tr>\n",
       "      <th rowspan=\"2\" valign=\"top\">Apple Valley</th>\n",
       "      <th>Office Supplies</th>\n",
       "      <td>880.59</td>\n",
       "    </tr>\n",
       "    <tr>\n",
       "      <th>Technology</th>\n",
       "      <td>1040.34</td>\n",
       "    </tr>\n",
       "    <tr>\n",
       "      <th rowspan=\"3\" valign=\"top\">Atascadero</th>\n",
       "      <th>Furniture</th>\n",
       "      <td>1775.66</td>\n",
       "    </tr>\n",
       "    <tr>\n",
       "      <th>Office Supplies</th>\n",
       "      <td>249.78</td>\n",
       "    </tr>\n",
       "    <tr>\n",
       "      <th>Technology</th>\n",
       "      <td>4711.31</td>\n",
       "    </tr>\n",
       "    <tr>\n",
       "      <th rowspan=\"3\" valign=\"top\">Bakersfield</th>\n",
       "      <th>Furniture</th>\n",
       "      <td>2325.22</td>\n",
       "    </tr>\n",
       "    <tr>\n",
       "      <th>Office Supplies</th>\n",
       "      <td>480.39</td>\n",
       "    </tr>\n",
       "    <tr>\n",
       "      <th>Technology</th>\n",
       "      <td>46.34</td>\n",
       "    </tr>\n",
       "    <tr>\n",
       "      <th rowspan=\"3\" valign=\"top\">Berkeley</th>\n",
       "      <th>Furniture</th>\n",
       "      <td>4019.29</td>\n",
       "    </tr>\n",
       "    <tr>\n",
       "      <th>Office Supplies</th>\n",
       "      <td>322.73</td>\n",
       "    </tr>\n",
       "    <tr>\n",
       "      <th>Technology</th>\n",
       "      <td>3191.71</td>\n",
       "    </tr>\n",
       "    <tr>\n",
       "      <th rowspan=\"3\" valign=\"top\">Beverly Hills</th>\n",
       "      <th>Furniture</th>\n",
       "      <td>2198.73</td>\n",
       "    </tr>\n",
       "    <tr>\n",
       "      <th>Office Supplies</th>\n",
       "      <td>83.82</td>\n",
       "    </tr>\n",
       "    <tr>\n",
       "      <th>Technology</th>\n",
       "      <td>1352.48</td>\n",
       "    </tr>\n",
       "    <tr>\n",
       "      <th rowspan=\"3\" valign=\"top\">Brentwood</th>\n",
       "      <th>Furniture</th>\n",
       "      <td>100.53</td>\n",
       "    </tr>\n",
       "    <tr>\n",
       "      <th>Office Supplies</th>\n",
       "      <td>477.10</td>\n",
       "    </tr>\n",
       "    <tr>\n",
       "      <th>Technology</th>\n",
       "      <td>642.57</td>\n",
       "    </tr>\n",
       "    <tr>\n",
       "      <th rowspan=\"2\" valign=\"top\">Burbank</th>\n",
       "      <th>Furniture</th>\n",
       "      <td>485.08</td>\n",
       "    </tr>\n",
       "    <tr>\n",
       "      <th>Office Supplies</th>\n",
       "      <td>46.22</td>\n",
       "    </tr>\n",
       "    <tr>\n",
       "      <th rowspan=\"2\" valign=\"top\">Calexico</th>\n",
       "      <th>Furniture</th>\n",
       "      <td>60.33</td>\n",
       "    </tr>\n",
       "    <tr>\n",
       "      <th>Office Supplies</th>\n",
       "      <td>918.76</td>\n",
       "    </tr>\n",
       "    <tr>\n",
       "      <th rowspan=\"2\" valign=\"top\">Camarillo</th>\n",
       "      <th>Office Supplies</th>\n",
       "      <td>925.55</td>\n",
       "    </tr>\n",
       "    <tr>\n",
       "      <th>Technology</th>\n",
       "      <td>846.35</td>\n",
       "    </tr>\n",
       "    <tr>\n",
       "      <th rowspan=\"3\" valign=\"top\">Carlsbad</th>\n",
       "      <th>Furniture</th>\n",
       "      <td>1083.90</td>\n",
       "    </tr>\n",
       "    <tr>\n",
       "      <th>Office Supplies</th>\n",
       "      <td>210.26</td>\n",
       "    </tr>\n",
       "    <tr>\n",
       "      <th>Technology</th>\n",
       "      <td>274.54</td>\n",
       "    </tr>\n",
       "    <tr>\n",
       "      <th>...</th>\n",
       "      <th>...</th>\n",
       "      <td>...</td>\n",
       "    </tr>\n",
       "    <tr>\n",
       "      <th rowspan=\"3\" valign=\"top\">Torrance</th>\n",
       "      <th>Furniture</th>\n",
       "      <td>36.45</td>\n",
       "    </tr>\n",
       "    <tr>\n",
       "      <th>Office Supplies</th>\n",
       "      <td>81.50</td>\n",
       "    </tr>\n",
       "    <tr>\n",
       "      <th>Technology</th>\n",
       "      <td>825.32</td>\n",
       "    </tr>\n",
       "    <tr>\n",
       "      <th rowspan=\"3\" valign=\"top\">Tracy</th>\n",
       "      <th>Furniture</th>\n",
       "      <td>280.18</td>\n",
       "    </tr>\n",
       "    <tr>\n",
       "      <th>Office Supplies</th>\n",
       "      <td>173.53</td>\n",
       "    </tr>\n",
       "    <tr>\n",
       "      <th>Technology</th>\n",
       "      <td>91.10</td>\n",
       "    </tr>\n",
       "    <tr>\n",
       "      <th rowspan=\"3\" valign=\"top\">Twentynine Palms</th>\n",
       "      <th>Furniture</th>\n",
       "      <td>8316.39</td>\n",
       "    </tr>\n",
       "    <tr>\n",
       "      <th>Office Supplies</th>\n",
       "      <td>2502.70</td>\n",
       "    </tr>\n",
       "    <tr>\n",
       "      <th>Technology</th>\n",
       "      <td>3229.22</td>\n",
       "    </tr>\n",
       "    <tr>\n",
       "      <th rowspan=\"2\" valign=\"top\">Vacaville</th>\n",
       "      <th>Furniture</th>\n",
       "      <td>2402.47</td>\n",
       "    </tr>\n",
       "    <tr>\n",
       "      <th>Office Supplies</th>\n",
       "      <td>2537.14</td>\n",
       "    </tr>\n",
       "    <tr>\n",
       "      <th rowspan=\"3\" valign=\"top\">Vallejo</th>\n",
       "      <th>Furniture</th>\n",
       "      <td>13.66</td>\n",
       "    </tr>\n",
       "    <tr>\n",
       "      <th>Office Supplies</th>\n",
       "      <td>911.52</td>\n",
       "    </tr>\n",
       "    <tr>\n",
       "      <th>Technology</th>\n",
       "      <td>2462.19</td>\n",
       "    </tr>\n",
       "    <tr>\n",
       "      <th rowspan=\"2\" valign=\"top\">Visalia</th>\n",
       "      <th>Office Supplies</th>\n",
       "      <td>631.73</td>\n",
       "    </tr>\n",
       "    <tr>\n",
       "      <th>Technology</th>\n",
       "      <td>1528.72</td>\n",
       "    </tr>\n",
       "    <tr>\n",
       "      <th rowspan=\"3\" valign=\"top\">West Hollywood</th>\n",
       "      <th>Furniture</th>\n",
       "      <td>2154.90</td>\n",
       "    </tr>\n",
       "    <tr>\n",
       "      <th>Office Supplies</th>\n",
       "      <td>2196.12</td>\n",
       "    </tr>\n",
       "    <tr>\n",
       "      <th>Technology</th>\n",
       "      <td>743.16</td>\n",
       "    </tr>\n",
       "    <tr>\n",
       "      <th rowspan=\"2\" valign=\"top\">Westminster</th>\n",
       "      <th>Furniture</th>\n",
       "      <td>729.76</td>\n",
       "    </tr>\n",
       "    <tr>\n",
       "      <th>Office Supplies</th>\n",
       "      <td>308.97</td>\n",
       "    </tr>\n",
       "    <tr>\n",
       "      <th rowspan=\"2\" valign=\"top\">Whittier</th>\n",
       "      <th>Furniture</th>\n",
       "      <td>125.86</td>\n",
       "    </tr>\n",
       "    <tr>\n",
       "      <th>Office Supplies</th>\n",
       "      <td>967.90</td>\n",
       "    </tr>\n",
       "    <tr>\n",
       "      <th rowspan=\"2\" valign=\"top\">Woodland</th>\n",
       "      <th>Office Supplies</th>\n",
       "      <td>312.65</td>\n",
       "    </tr>\n",
       "    <tr>\n",
       "      <th>Technology</th>\n",
       "      <td>1638.93</td>\n",
       "    </tr>\n",
       "    <tr>\n",
       "      <th rowspan=\"2\" valign=\"top\">Yuba City</th>\n",
       "      <th>Furniture</th>\n",
       "      <td>377.47</td>\n",
       "    </tr>\n",
       "    <tr>\n",
       "      <th>Office Supplies</th>\n",
       "      <td>98.96</td>\n",
       "    </tr>\n",
       "    <tr>\n",
       "      <th rowspan=\"2\" valign=\"top\">Yucaipa</th>\n",
       "      <th>Furniture</th>\n",
       "      <td>2154.90</td>\n",
       "    </tr>\n",
       "    <tr>\n",
       "      <th>Technology</th>\n",
       "      <td>4470.41</td>\n",
       "    </tr>\n",
       "    <tr>\n",
       "      <th>Total</th>\n",
       "      <th></th>\n",
       "      <td>636184.44</td>\n",
       "    </tr>\n",
       "  </tbody>\n",
       "</table>\n",
       "<p>309 rows × 1 columns</p>\n",
       "</div>"
      ],
      "text/plain": [
       "                                         sum\n",
       "                                       Sales\n",
       "City             Product_Category           \n",
       "Anaheim          Office Supplies     2553.62\n",
       "                 Technology          1200.38\n",
       "Antioch          Furniture             14.49\n",
       "                 Office Supplies       28.46\n",
       "Apple Valley     Office Supplies      880.59\n",
       "                 Technology          1040.34\n",
       "Atascadero       Furniture           1775.66\n",
       "                 Office Supplies      249.78\n",
       "                 Technology          4711.31\n",
       "Bakersfield      Furniture           2325.22\n",
       "                 Office Supplies      480.39\n",
       "                 Technology            46.34\n",
       "Berkeley         Furniture           4019.29\n",
       "                 Office Supplies      322.73\n",
       "                 Technology          3191.71\n",
       "Beverly Hills    Furniture           2198.73\n",
       "                 Office Supplies       83.82\n",
       "                 Technology          1352.48\n",
       "Brentwood        Furniture            100.53\n",
       "                 Office Supplies      477.10\n",
       "                 Technology           642.57\n",
       "Burbank          Furniture            485.08\n",
       "                 Office Supplies       46.22\n",
       "Calexico         Furniture             60.33\n",
       "                 Office Supplies      918.76\n",
       "Camarillo        Office Supplies      925.55\n",
       "                 Technology           846.35\n",
       "Carlsbad         Furniture           1083.90\n",
       "                 Office Supplies      210.26\n",
       "                 Technology           274.54\n",
       "...                                      ...\n",
       "Torrance         Furniture             36.45\n",
       "                 Office Supplies       81.50\n",
       "                 Technology           825.32\n",
       "Tracy            Furniture            280.18\n",
       "                 Office Supplies      173.53\n",
       "                 Technology            91.10\n",
       "Twentynine Palms Furniture           8316.39\n",
       "                 Office Supplies     2502.70\n",
       "                 Technology          3229.22\n",
       "Vacaville        Furniture           2402.47\n",
       "                 Office Supplies     2537.14\n",
       "Vallejo          Furniture             13.66\n",
       "                 Office Supplies      911.52\n",
       "                 Technology          2462.19\n",
       "Visalia          Office Supplies      631.73\n",
       "                 Technology          1528.72\n",
       "West Hollywood   Furniture           2154.90\n",
       "                 Office Supplies     2196.12\n",
       "                 Technology           743.16\n",
       "Westminster      Furniture            729.76\n",
       "                 Office Supplies      308.97\n",
       "Whittier         Furniture            125.86\n",
       "                 Office Supplies      967.90\n",
       "Woodland         Office Supplies      312.65\n",
       "                 Technology          1638.93\n",
       "Yuba City        Furniture            377.47\n",
       "                 Office Supplies       98.96\n",
       "Yucaipa          Furniture           2154.90\n",
       "                 Technology          4470.41\n",
       "Total                              636184.44\n",
       "\n",
       "[309 rows x 1 columns]"
      ]
     },
     "execution_count": 17,
     "metadata": {},
     "output_type": "execute_result"
    }
   ],
   "source": [
    "pd.pivot_table(order_details,'Sales',['City','Product_Category'],aggfunc=['sum'],margins=True, margins_name='Total')"
   ]
  },
  {
   "cell_type": "markdown",
   "metadata": {},
   "source": [
    "#### Cities with maximum sales"
   ]
  },
  {
   "cell_type": "code",
   "execution_count": 105,
   "metadata": {},
   "outputs": [
    {
     "data": {
      "text/plain": [
       "<matplotlib.axes._subplots.AxesSubplot at 0x16734d4d4a8>"
      ]
     },
     "execution_count": 105,
     "metadata": {},
     "output_type": "execute_result"
    },
    {
     "data": {
      "image/png": "[encoded data removed]",
      "text/plain": [
       "<Figure size 432x288 with 1 Axes>"
      ]
     },
     "metadata": {
      "needs_background": "light"
     },
     "output_type": "display_data"
    }
   ],
   "source": [
    "order_details.groupby('City').Sales.sum().sort_values(ascending=False)[:5].plot.bar()"
   ]
  },
  {
   "cell_type": "markdown",
   "metadata": {},
   "source": [
    "#### Cities with lowest sales"
   ]
  },
  {
   "cell_type": "code",
   "execution_count": 106,
   "metadata": {},
   "outputs": [
    {
     "data": {
      "text/plain": [
       "<matplotlib.axes._subplots.AxesSubplot at 0x16734d3bef0>"
      ]
     },
     "execution_count": 106,
     "metadata": {},
     "output_type": "execute_result"
    },
    {
     "data": {
      "image/png": "[encoded data removed]",
      "text/plain": [
       "<Figure size 432x288 with 1 Axes>"
      ]
     },
     "metadata": {
      "needs_background": "light"
     },
     "output_type": "display_data"
    }
   ],
   "source": [
    "order_details.groupby('City').Sales.sum().sort_values(ascending=True)[:5].plot.bar()"
   ]
  },
  {
   "cell_type": "code",
   "execution_count": 18,
   "metadata": {},
   "outputs": [
    {
     "data": {
      "text/html": [
       "<div>\n",
       "<style scoped>\n",
       "    .dataframe tbody tr th:only-of-type {\n",
       "        vertical-align: middle;\n",
       "    }\n",
       "\n",
       "    .dataframe tbody tr th {\n",
       "        vertical-align: top;\n",
       "    }\n",
       "\n",
       "    .dataframe thead tr th {\n",
       "        text-align: left;\n",
       "    }\n",
       "\n",
       "    .dataframe thead tr:last-of-type th {\n",
       "        text-align: right;\n",
       "    }\n",
       "</style>\n",
       "<table border=\"1\" class=\"dataframe\">\n",
       "  <thead>\n",
       "    <tr>\n",
       "      <th></th>\n",
       "      <th></th>\n",
       "      <th>sum</th>\n",
       "    </tr>\n",
       "    <tr>\n",
       "      <th></th>\n",
       "      <th></th>\n",
       "      <th>Profit</th>\n",
       "    </tr>\n",
       "    <tr>\n",
       "      <th>City</th>\n",
       "      <th>Product_Category</th>\n",
       "      <th></th>\n",
       "    </tr>\n",
       "  </thead>\n",
       "  <tbody>\n",
       "    <tr>\n",
       "      <th rowspan=\"2\" valign=\"top\">Anaheim</th>\n",
       "      <th>Office Supplies</th>\n",
       "      <td>179.502770</td>\n",
       "    </tr>\n",
       "    <tr>\n",
       "      <th>Technology</th>\n",
       "      <td>376.796250</td>\n",
       "    </tr>\n",
       "    <tr>\n",
       "      <th rowspan=\"2\" valign=\"top\">Antioch</th>\n",
       "      <th>Furniture</th>\n",
       "      <td>-14.712000</td>\n",
       "    </tr>\n",
       "    <tr>\n",
       "      <th>Office Supplies</th>\n",
       "      <td>-32.350000</td>\n",
       "    </tr>\n",
       "    <tr>\n",
       "      <th rowspan=\"2\" valign=\"top\">Apple Valley</th>\n",
       "      <th>Office Supplies</th>\n",
       "      <td>-56.800000</td>\n",
       "    </tr>\n",
       "    <tr>\n",
       "      <th>Technology</th>\n",
       "      <td>287.296250</td>\n",
       "    </tr>\n",
       "    <tr>\n",
       "      <th rowspan=\"3\" valign=\"top\">Atascadero</th>\n",
       "      <th>Furniture</th>\n",
       "      <td>-610.048950</td>\n",
       "    </tr>\n",
       "    <tr>\n",
       "      <th>Office Supplies</th>\n",
       "      <td>-115.725740</td>\n",
       "    </tr>\n",
       "    <tr>\n",
       "      <th>Technology</th>\n",
       "      <td>318.740400</td>\n",
       "    </tr>\n",
       "    <tr>\n",
       "      <th rowspan=\"3\" valign=\"top\">Bakersfield</th>\n",
       "      <th>Furniture</th>\n",
       "      <td>261.835120</td>\n",
       "    </tr>\n",
       "    <tr>\n",
       "      <th>Office Supplies</th>\n",
       "      <td>136.237220</td>\n",
       "    </tr>\n",
       "    <tr>\n",
       "      <th>Technology</th>\n",
       "      <td>-172.794000</td>\n",
       "    </tr>\n",
       "    <tr>\n",
       "      <th rowspan=\"3\" valign=\"top\">Berkeley</th>\n",
       "      <th>Furniture</th>\n",
       "      <td>736.950450</td>\n",
       "    </tr>\n",
       "    <tr>\n",
       "      <th>Office Supplies</th>\n",
       "      <td>48.552800</td>\n",
       "    </tr>\n",
       "    <tr>\n",
       "      <th>Technology</th>\n",
       "      <td>616.206250</td>\n",
       "    </tr>\n",
       "    <tr>\n",
       "      <th rowspan=\"3\" valign=\"top\">Beverly Hills</th>\n",
       "      <th>Furniture</th>\n",
       "      <td>407.038950</td>\n",
       "    </tr>\n",
       "    <tr>\n",
       "      <th>Office Supplies</th>\n",
       "      <td>-366.295000</td>\n",
       "    </tr>\n",
       "    <tr>\n",
       "      <th>Technology</th>\n",
       "      <td>180.298888</td>\n",
       "    </tr>\n",
       "    <tr>\n",
       "      <th rowspan=\"3\" valign=\"top\">Brentwood</th>\n",
       "      <th>Furniture</th>\n",
       "      <td>4.180000</td>\n",
       "    </tr>\n",
       "    <tr>\n",
       "      <th>Office Supplies</th>\n",
       "      <td>-626.187750</td>\n",
       "    </tr>\n",
       "    <tr>\n",
       "      <th>Technology</th>\n",
       "      <td>249.102000</td>\n",
       "    </tr>\n",
       "    <tr>\n",
       "      <th rowspan=\"2\" valign=\"top\">Burbank</th>\n",
       "      <th>Furniture</th>\n",
       "      <td>-23.324400</td>\n",
       "    </tr>\n",
       "    <tr>\n",
       "      <th>Office Supplies</th>\n",
       "      <td>-195.930000</td>\n",
       "    </tr>\n",
       "    <tr>\n",
       "      <th rowspan=\"2\" valign=\"top\">Calexico</th>\n",
       "      <th>Furniture</th>\n",
       "      <td>41.627700</td>\n",
       "    </tr>\n",
       "    <tr>\n",
       "      <th>Office Supplies</th>\n",
       "      <td>194.090500</td>\n",
       "    </tr>\n",
       "    <tr>\n",
       "      <th rowspan=\"2\" valign=\"top\">Camarillo</th>\n",
       "      <th>Office Supplies</th>\n",
       "      <td>636.029250</td>\n",
       "    </tr>\n",
       "    <tr>\n",
       "      <th>Technology</th>\n",
       "      <td>324.563084</td>\n",
       "    </tr>\n",
       "    <tr>\n",
       "      <th rowspan=\"3\" valign=\"top\">Carlsbad</th>\n",
       "      <th>Furniture</th>\n",
       "      <td>-21.620000</td>\n",
       "    </tr>\n",
       "    <tr>\n",
       "      <th>Office Supplies</th>\n",
       "      <td>-137.220000</td>\n",
       "    </tr>\n",
       "    <tr>\n",
       "      <th>Technology</th>\n",
       "      <td>-182.974000</td>\n",
       "    </tr>\n",
       "    <tr>\n",
       "      <th>...</th>\n",
       "      <th>...</th>\n",
       "      <td>...</td>\n",
       "    </tr>\n",
       "    <tr>\n",
       "      <th rowspan=\"3\" valign=\"top\">Torrance</th>\n",
       "      <th>Furniture</th>\n",
       "      <td>-113.860000</td>\n",
       "    </tr>\n",
       "    <tr>\n",
       "      <th>Office Supplies</th>\n",
       "      <td>6.989576</td>\n",
       "    </tr>\n",
       "    <tr>\n",
       "      <th>Technology</th>\n",
       "      <td>14.093540</td>\n",
       "    </tr>\n",
       "    <tr>\n",
       "      <th rowspan=\"3\" valign=\"top\">Tracy</th>\n",
       "      <th>Furniture</th>\n",
       "      <td>7.550000</td>\n",
       "    </tr>\n",
       "    <tr>\n",
       "      <th>Office Supplies</th>\n",
       "      <td>-193.768000</td>\n",
       "    </tr>\n",
       "    <tr>\n",
       "      <th>Technology</th>\n",
       "      <td>51.080000</td>\n",
       "    </tr>\n",
       "    <tr>\n",
       "      <th rowspan=\"3\" valign=\"top\">Twentynine Palms</th>\n",
       "      <th>Furniture</th>\n",
       "      <td>-745.342940</td>\n",
       "    </tr>\n",
       "    <tr>\n",
       "      <th>Office Supplies</th>\n",
       "      <td>937.213550</td>\n",
       "    </tr>\n",
       "    <tr>\n",
       "      <th>Technology</th>\n",
       "      <td>-134.356500</td>\n",
       "    </tr>\n",
       "    <tr>\n",
       "      <th rowspan=\"2\" valign=\"top\">Vacaville</th>\n",
       "      <th>Furniture</th>\n",
       "      <td>344.303300</td>\n",
       "    </tr>\n",
       "    <tr>\n",
       "      <th>Office Supplies</th>\n",
       "      <td>70.554300</td>\n",
       "    </tr>\n",
       "    <tr>\n",
       "      <th rowspan=\"3\" valign=\"top\">Vallejo</th>\n",
       "      <th>Furniture</th>\n",
       "      <td>-5.870000</td>\n",
       "    </tr>\n",
       "    <tr>\n",
       "      <th>Office Supplies</th>\n",
       "      <td>-59.907600</td>\n",
       "    </tr>\n",
       "    <tr>\n",
       "      <th>Technology</th>\n",
       "      <td>281.276250</td>\n",
       "    </tr>\n",
       "    <tr>\n",
       "      <th rowspan=\"2\" valign=\"top\">Visalia</th>\n",
       "      <th>Office Supplies</th>\n",
       "      <td>122.955820</td>\n",
       "    </tr>\n",
       "    <tr>\n",
       "      <th>Technology</th>\n",
       "      <td>196.957517</td>\n",
       "    </tr>\n",
       "    <tr>\n",
       "      <th rowspan=\"3\" valign=\"top\">West Hollywood</th>\n",
       "      <th>Furniture</th>\n",
       "      <td>376.796250</td>\n",
       "    </tr>\n",
       "    <tr>\n",
       "      <th>Office Supplies</th>\n",
       "      <td>784.592500</td>\n",
       "    </tr>\n",
       "    <tr>\n",
       "      <th>Technology</th>\n",
       "      <td>-145.927900</td>\n",
       "    </tr>\n",
       "    <tr>\n",
       "      <th rowspan=\"2\" valign=\"top\">Westminster</th>\n",
       "      <th>Furniture</th>\n",
       "      <td>320.504200</td>\n",
       "    </tr>\n",
       "    <tr>\n",
       "      <th>Office Supplies</th>\n",
       "      <td>103.270000</td>\n",
       "    </tr>\n",
       "    <tr>\n",
       "      <th rowspan=\"2\" valign=\"top\">Whittier</th>\n",
       "      <th>Furniture</th>\n",
       "      <td>86.843400</td>\n",
       "    </tr>\n",
       "    <tr>\n",
       "      <th>Office Supplies</th>\n",
       "      <td>480.023150</td>\n",
       "    </tr>\n",
       "    <tr>\n",
       "      <th rowspan=\"2\" valign=\"top\">Woodland</th>\n",
       "      <th>Office Supplies</th>\n",
       "      <td>215.728500</td>\n",
       "    </tr>\n",
       "    <tr>\n",
       "      <th>Technology</th>\n",
       "      <td>363.026250</td>\n",
       "    </tr>\n",
       "    <tr>\n",
       "      <th rowspan=\"2\" valign=\"top\">Yuba City</th>\n",
       "      <th>Furniture</th>\n",
       "      <td>-113.120000</td>\n",
       "    </tr>\n",
       "    <tr>\n",
       "      <th>Office Supplies</th>\n",
       "      <td>9.330000</td>\n",
       "    </tr>\n",
       "    <tr>\n",
       "      <th rowspan=\"2\" valign=\"top\">Yucaipa</th>\n",
       "      <th>Furniture</th>\n",
       "      <td>376.796250</td>\n",
       "    </tr>\n",
       "    <tr>\n",
       "      <th>Technology</th>\n",
       "      <td>90.863300</td>\n",
       "    </tr>\n",
       "    <tr>\n",
       "      <th>Total</th>\n",
       "      <th></th>\n",
       "      <td>29495.211427</td>\n",
       "    </tr>\n",
       "  </tbody>\n",
       "</table>\n",
       "<p>309 rows × 1 columns</p>\n",
       "</div>"
      ],
      "text/plain": [
       "                                            sum\n",
       "                                         Profit\n",
       "City             Product_Category              \n",
       "Anaheim          Office Supplies     179.502770\n",
       "                 Technology          376.796250\n",
       "Antioch          Furniture           -14.712000\n",
       "                 Office Supplies     -32.350000\n",
       "Apple Valley     Office Supplies     -56.800000\n",
       "                 Technology          287.296250\n",
       "Atascadero       Furniture          -610.048950\n",
       "                 Office Supplies    -115.725740\n",
       "                 Technology          318.740400\n",
       "Bakersfield      Furniture           261.835120\n",
       "                 Office Supplies     136.237220\n",
       "                 Technology         -172.794000\n",
       "Berkeley         Furniture           736.950450\n",
       "                 Office Supplies      48.552800\n",
       "                 Technology          616.206250\n",
       "Beverly Hills    Furniture           407.038950\n",
       "                 Office Supplies    -366.295000\n",
       "                 Technology          180.298888\n",
       "Brentwood        Furniture             4.180000\n",
       "                 Office Supplies    -626.187750\n",
       "                 Technology          249.102000\n",
       "Burbank          Furniture           -23.324400\n",
       "                 Office Supplies    -195.930000\n",
       "Calexico         Furniture            41.627700\n",
       "                 Office Supplies     194.090500\n",
       "Camarillo        Office Supplies     636.029250\n",
       "                 Technology          324.563084\n",
       "Carlsbad         Furniture           -21.620000\n",
       "                 Office Supplies    -137.220000\n",
       "                 Technology         -182.974000\n",
       "...                                         ...\n",
       "Torrance         Furniture          -113.860000\n",
       "                 Office Supplies       6.989576\n",
       "                 Technology           14.093540\n",
       "Tracy            Furniture             7.550000\n",
       "                 Office Supplies    -193.768000\n",
       "                 Technology           51.080000\n",
       "Twentynine Palms Furniture          -745.342940\n",
       "                 Office Supplies     937.213550\n",
       "                 Technology         -134.356500\n",
       "Vacaville        Furniture           344.303300\n",
       "                 Office Supplies      70.554300\n",
       "Vallejo          Furniture            -5.870000\n",
       "                 Office Supplies     -59.907600\n",
       "                 Technology          281.276250\n",
       "Visalia          Office Supplies     122.955820\n",
       "                 Technology          196.957517\n",
       "West Hollywood   Furniture           376.796250\n",
       "                 Office Supplies     784.592500\n",
       "                 Technology         -145.927900\n",
       "Westminster      Furniture           320.504200\n",
       "                 Office Supplies     103.270000\n",
       "Whittier         Furniture            86.843400\n",
       "                 Office Supplies     480.023150\n",
       "Woodland         Office Supplies     215.728500\n",
       "                 Technology          363.026250\n",
       "Yuba City        Furniture          -113.120000\n",
       "                 Office Supplies       9.330000\n",
       "Yucaipa          Furniture           376.796250\n",
       "                 Technology           90.863300\n",
       "Total                              29495.211427\n",
       "\n",
       "[309 rows x 1 columns]"
      ]
     },
     "execution_count": 18,
     "metadata": {},
     "output_type": "execute_result"
    }
   ],
   "source": [
    "pd.pivot_table(order_details,'Profit',['City','Product_Category'],aggfunc=['sum'],margins=True, margins_name='Total')"
   ]
  },
  {
   "cell_type": "markdown",
   "metadata": {},
   "source": [
    "#### Cities with maximum profit"
   ]
  },
  {
   "cell_type": "code",
   "execution_count": 104,
   "metadata": {},
   "outputs": [
    {
     "data": {
      "text/plain": [
       "<matplotlib.axes._subplots.AxesSubplot at 0x16734d4dfd0>"
      ]
     },
     "execution_count": 104,
     "metadata": {},
     "output_type": "execute_result"
    },
    {
     "data": {
      "image/png": "[encoded data removed]",
      "text/plain": [
       "<Figure size 432x288 with 1 Axes>"
      ]
     },
     "metadata": {
      "needs_background": "light"
     },
     "output_type": "display_data"
    }
   ],
   "source": [
    "order_details.groupby('City').Profit.sum().sort_values(ascending=False)[:5].plot.bar()"
   ]
  },
  {
   "cell_type": "markdown",
   "metadata": {},
   "source": [
    "#### Cities incurring loss/ minimum profit"
   ]
  },
  {
   "cell_type": "code",
   "execution_count": 131,
   "metadata": {},
   "outputs": [
    {
     "data": {
      "text/plain": [
       "<matplotlib.axes._subplots.AxesSubplot at 0x167346fc3c8>"
      ]
     },
     "execution_count": 131,
     "metadata": {},
     "output_type": "execute_result"
    },
    {
     "data": {
      "image/png": "[encoded data removed]",
      "text/plain": [
       "<Figure size 432x288 with 1 Axes>"
      ]
     },
     "metadata": {
      "needs_background": "light"
     },
     "output_type": "display_data"
    }
   ],
   "source": [
    "order_details.groupby('City').Profit.sum().sort_values(ascending=True)[:5].plot.bar()"
   ]
  },
  {
   "cell_type": "markdown",
   "metadata": {},
   "source": [
    "#### Cities with maximum shipments done & their mode"
   ]
  },
  {
   "cell_type": "code",
   "execution_count": 123,
   "metadata": {},
   "outputs": [
    {
     "data": {
      "text/html": [
       "<div>\n",
       "<style scoped>\n",
       "    .dataframe tbody tr th:only-of-type {\n",
       "        vertical-align: middle;\n",
       "    }\n",
       "\n",
       "    .dataframe tbody tr th {\n",
       "        vertical-align: top;\n",
       "    }\n",
       "\n",
       "    .dataframe thead th {\n",
       "        text-align: right;\n",
       "    }\n",
       "</style>\n",
       "<table border=\"1\" class=\"dataframe\">\n",
       "  <thead>\n",
       "    <tr style=\"text-align: right;\">\n",
       "      <th>Ship_Mode</th>\n",
       "      <th>Delivery Truck</th>\n",
       "      <th>Express Air</th>\n",
       "      <th>Regular Air</th>\n",
       "      <th>Total</th>\n",
       "    </tr>\n",
       "    <tr>\n",
       "      <th>City</th>\n",
       "      <th></th>\n",
       "      <th></th>\n",
       "      <th></th>\n",
       "      <th></th>\n",
       "    </tr>\n",
       "  </thead>\n",
       "  <tbody>\n",
       "    <tr>\n",
       "      <th>Total</th>\n",
       "      <td>151</td>\n",
       "      <td>119</td>\n",
       "      <td>751</td>\n",
       "      <td>1021</td>\n",
       "    </tr>\n",
       "    <tr>\n",
       "      <th>Los Angeles</th>\n",
       "      <td>28</td>\n",
       "      <td>24</td>\n",
       "      <td>144</td>\n",
       "      <td>196</td>\n",
       "    </tr>\n",
       "    <tr>\n",
       "      <th>San Francisco</th>\n",
       "      <td>9</td>\n",
       "      <td>5</td>\n",
       "      <td>23</td>\n",
       "      <td>37</td>\n",
       "    </tr>\n",
       "    <tr>\n",
       "      <th>San Diego</th>\n",
       "      <td>6</td>\n",
       "      <td>6</td>\n",
       "      <td>24</td>\n",
       "      <td>36</td>\n",
       "    </tr>\n",
       "    <tr>\n",
       "      <th>Twentynine Palms</th>\n",
       "      <td>5</td>\n",
       "      <td>3</td>\n",
       "      <td>14</td>\n",
       "      <td>22</td>\n",
       "    </tr>\n",
       "    <tr>\n",
       "      <th>Menlo Park</th>\n",
       "      <td>3</td>\n",
       "      <td>1</td>\n",
       "      <td>10</td>\n",
       "      <td>14</td>\n",
       "    </tr>\n",
       "    <tr>\n",
       "      <th>Santa Clara</th>\n",
       "      <td>2</td>\n",
       "      <td>1</td>\n",
       "      <td>11</td>\n",
       "      <td>14</td>\n",
       "    </tr>\n",
       "    <tr>\n",
       "      <th>Rancho Cucamonga</th>\n",
       "      <td>3</td>\n",
       "      <td>3</td>\n",
       "      <td>6</td>\n",
       "      <td>12</td>\n",
       "    </tr>\n",
       "    <tr>\n",
       "      <th>Laguna Hills</th>\n",
       "      <td>3</td>\n",
       "      <td>1</td>\n",
       "      <td>7</td>\n",
       "      <td>11</td>\n",
       "    </tr>\n",
       "    <tr>\n",
       "      <th>Hacienda Heights</th>\n",
       "      <td>0</td>\n",
       "      <td>1</td>\n",
       "      <td>10</td>\n",
       "      <td>11</td>\n",
       "    </tr>\n",
       "  </tbody>\n",
       "</table>\n",
       "</div>"
      ],
      "text/plain": [
       "Ship_Mode         Delivery Truck  Express Air  Regular Air  Total\n",
       "City                                                             \n",
       "Total                        151          119          751   1021\n",
       "Los Angeles                   28           24          144    196\n",
       "San Francisco                  9            5           23     37\n",
       "San Diego                      6            6           24     36\n",
       "Twentynine Palms               5            3           14     22\n",
       "Menlo Park                     3            1           10     14\n",
       "Santa Clara                    2            1           11     14\n",
       "Rancho Cucamonga               3            3            6     12\n",
       "Laguna Hills                   3            1            7     11\n",
       "Hacienda Heights               0            1           10     11"
      ]
     },
     "execution_count": 123,
     "metadata": {},
     "output_type": "execute_result"
    }
   ],
   "source": [
    "df_city_shipmode=pd.crosstab(order_details.City,order_details.Ship_Mode, margins=True, margins_name='Total')\n",
    "df_city_shipmode.reindex(df_city_shipmode['Total'].sort_values(ascending=False)[:10].index)"
   ]
  },
  {
   "cell_type": "code",
   "execution_count": 20,
   "metadata": {},
   "outputs": [
    {
     "data": {
      "text/html": [
       "<div>\n",
       "<style scoped>\n",
       "    .dataframe tbody tr th:only-of-type {\n",
       "        vertical-align: middle;\n",
       "    }\n",
       "\n",
       "    .dataframe tbody tr th {\n",
       "        vertical-align: top;\n",
       "    }\n",
       "\n",
       "    .dataframe thead tr th {\n",
       "        text-align: left;\n",
       "    }\n",
       "\n",
       "    .dataframe thead tr:last-of-type th {\n",
       "        text-align: right;\n",
       "    }\n",
       "</style>\n",
       "<table border=\"1\" class=\"dataframe\">\n",
       "  <thead>\n",
       "    <tr>\n",
       "      <th></th>\n",
       "      <th></th>\n",
       "      <th>sum</th>\n",
       "    </tr>\n",
       "    <tr>\n",
       "      <th></th>\n",
       "      <th></th>\n",
       "      <th>Sales</th>\n",
       "    </tr>\n",
       "    <tr>\n",
       "      <th>City</th>\n",
       "      <th>Ship_Mode</th>\n",
       "      <th></th>\n",
       "    </tr>\n",
       "  </thead>\n",
       "  <tbody>\n",
       "    <tr>\n",
       "      <th rowspan=\"2\" valign=\"top\">Anaheim</th>\n",
       "      <th>Delivery Truck</th>\n",
       "      <td>1200.38</td>\n",
       "    </tr>\n",
       "    <tr>\n",
       "      <th>Regular Air</th>\n",
       "      <td>2553.62</td>\n",
       "    </tr>\n",
       "    <tr>\n",
       "      <th>Antioch</th>\n",
       "      <th>Regular Air</th>\n",
       "      <td>42.95</td>\n",
       "    </tr>\n",
       "    <tr>\n",
       "      <th>Apple Valley</th>\n",
       "      <th>Regular Air</th>\n",
       "      <td>1920.93</td>\n",
       "    </tr>\n",
       "    <tr>\n",
       "      <th rowspan=\"3\" valign=\"top\">Atascadero</th>\n",
       "      <th>Delivery Truck</th>\n",
       "      <td>426.93</td>\n",
       "    </tr>\n",
       "    <tr>\n",
       "      <th>Express Air</th>\n",
       "      <td>2154.90</td>\n",
       "    </tr>\n",
       "    <tr>\n",
       "      <th>Regular Air</th>\n",
       "      <td>4154.92</td>\n",
       "    </tr>\n",
       "    <tr>\n",
       "      <th rowspan=\"2\" valign=\"top\">Bakersfield</th>\n",
       "      <th>Delivery Truck</th>\n",
       "      <td>2154.90</td>\n",
       "    </tr>\n",
       "    <tr>\n",
       "      <th>Regular Air</th>\n",
       "      <td>697.05</td>\n",
       "    </tr>\n",
       "    <tr>\n",
       "      <th rowspan=\"3\" valign=\"top\">Berkeley</th>\n",
       "      <th>Delivery Truck</th>\n",
       "      <td>2998.39</td>\n",
       "    </tr>\n",
       "    <tr>\n",
       "      <th>Express Air</th>\n",
       "      <td>2242.68</td>\n",
       "    </tr>\n",
       "    <tr>\n",
       "      <th>Regular Air</th>\n",
       "      <td>2292.66</td>\n",
       "    </tr>\n",
       "    <tr>\n",
       "      <th rowspan=\"2\" valign=\"top\">Beverly Hills</th>\n",
       "      <th>Express Air</th>\n",
       "      <td>44.24</td>\n",
       "    </tr>\n",
       "    <tr>\n",
       "      <th>Regular Air</th>\n",
       "      <td>3590.79</td>\n",
       "    </tr>\n",
       "    <tr>\n",
       "      <th rowspan=\"2\" valign=\"top\">Brentwood</th>\n",
       "      <th>Express Air</th>\n",
       "      <td>81.77</td>\n",
       "    </tr>\n",
       "    <tr>\n",
       "      <th>Regular Air</th>\n",
       "      <td>1138.43</td>\n",
       "    </tr>\n",
       "    <tr>\n",
       "      <th rowspan=\"2\" valign=\"top\">Burbank</th>\n",
       "      <th>Delivery Truck</th>\n",
       "      <td>485.08</td>\n",
       "    </tr>\n",
       "    <tr>\n",
       "      <th>Regular Air</th>\n",
       "      <td>46.22</td>\n",
       "    </tr>\n",
       "    <tr>\n",
       "      <th rowspan=\"2\" valign=\"top\">Calexico</th>\n",
       "      <th>Express Air</th>\n",
       "      <td>452.17</td>\n",
       "    </tr>\n",
       "    <tr>\n",
       "      <th>Regular Air</th>\n",
       "      <td>526.92</td>\n",
       "    </tr>\n",
       "    <tr>\n",
       "      <th rowspan=\"2\" valign=\"top\">Camarillo</th>\n",
       "      <th>Express Air</th>\n",
       "      <td>48.99</td>\n",
       "    </tr>\n",
       "    <tr>\n",
       "      <th>Regular Air</th>\n",
       "      <td>1722.91</td>\n",
       "    </tr>\n",
       "    <tr>\n",
       "      <th rowspan=\"3\" valign=\"top\">Carlsbad</th>\n",
       "      <th>Delivery Truck</th>\n",
       "      <td>908.91</td>\n",
       "    </tr>\n",
       "    <tr>\n",
       "      <th>Express Air</th>\n",
       "      <td>68.34</td>\n",
       "    </tr>\n",
       "    <tr>\n",
       "      <th>Regular Air</th>\n",
       "      <td>591.45</td>\n",
       "    </tr>\n",
       "    <tr>\n",
       "      <th rowspan=\"2\" valign=\"top\">Chico</th>\n",
       "      <th>Delivery Truck</th>\n",
       "      <td>2154.90</td>\n",
       "    </tr>\n",
       "    <tr>\n",
       "      <th>Regular Air</th>\n",
       "      <td>1237.22</td>\n",
       "    </tr>\n",
       "    <tr>\n",
       "      <th rowspan=\"2\" valign=\"top\">Chula Vista</th>\n",
       "      <th>Delivery Truck</th>\n",
       "      <td>2154.90</td>\n",
       "    </tr>\n",
       "    <tr>\n",
       "      <th>Regular Air</th>\n",
       "      <td>1020.12</td>\n",
       "    </tr>\n",
       "    <tr>\n",
       "      <th>Citrus Heights</th>\n",
       "      <th>Delivery Truck</th>\n",
       "      <td>897.87</td>\n",
       "    </tr>\n",
       "    <tr>\n",
       "      <th>...</th>\n",
       "      <th>...</th>\n",
       "      <td>...</td>\n",
       "    </tr>\n",
       "    <tr>\n",
       "      <th rowspan=\"2\" valign=\"top\">Temecula</th>\n",
       "      <th>Delivery Truck</th>\n",
       "      <td>8089.06</td>\n",
       "    </tr>\n",
       "    <tr>\n",
       "      <th>Regular Air</th>\n",
       "      <td>1623.72</td>\n",
       "    </tr>\n",
       "    <tr>\n",
       "      <th rowspan=\"3\" valign=\"top\">Thousand Oaks</th>\n",
       "      <th>Delivery Truck</th>\n",
       "      <td>334.30</td>\n",
       "    </tr>\n",
       "    <tr>\n",
       "      <th>Express Air</th>\n",
       "      <td>1192.11</td>\n",
       "    </tr>\n",
       "    <tr>\n",
       "      <th>Regular Air</th>\n",
       "      <td>608.18</td>\n",
       "    </tr>\n",
       "    <tr>\n",
       "      <th rowspan=\"2\" valign=\"top\">Torrance</th>\n",
       "      <th>Express Air</th>\n",
       "      <td>25.29</td>\n",
       "    </tr>\n",
       "    <tr>\n",
       "      <th>Regular Air</th>\n",
       "      <td>917.98</td>\n",
       "    </tr>\n",
       "    <tr>\n",
       "      <th rowspan=\"3\" valign=\"top\">Tracy</th>\n",
       "      <th>Delivery Truck</th>\n",
       "      <td>280.18</td>\n",
       "    </tr>\n",
       "    <tr>\n",
       "      <th>Express Air</th>\n",
       "      <td>8.11</td>\n",
       "    </tr>\n",
       "    <tr>\n",
       "      <th>Regular Air</th>\n",
       "      <td>256.52</td>\n",
       "    </tr>\n",
       "    <tr>\n",
       "      <th rowspan=\"3\" valign=\"top\">Twentynine Palms</th>\n",
       "      <th>Delivery Truck</th>\n",
       "      <td>6906.42</td>\n",
       "    </tr>\n",
       "    <tr>\n",
       "      <th>Express Air</th>\n",
       "      <td>1525.67</td>\n",
       "    </tr>\n",
       "    <tr>\n",
       "      <th>Regular Air</th>\n",
       "      <td>5616.22</td>\n",
       "    </tr>\n",
       "    <tr>\n",
       "      <th rowspan=\"3\" valign=\"top\">Vacaville</th>\n",
       "      <th>Delivery Truck</th>\n",
       "      <td>2154.90</td>\n",
       "    </tr>\n",
       "    <tr>\n",
       "      <th>Express Air</th>\n",
       "      <td>340.42</td>\n",
       "    </tr>\n",
       "    <tr>\n",
       "      <th>Regular Air</th>\n",
       "      <td>2444.29</td>\n",
       "    </tr>\n",
       "    <tr>\n",
       "      <th rowspan=\"2\" valign=\"top\">Vallejo</th>\n",
       "      <th>Express Air</th>\n",
       "      <td>327.83</td>\n",
       "    </tr>\n",
       "    <tr>\n",
       "      <th>Regular Air</th>\n",
       "      <td>3059.54</td>\n",
       "    </tr>\n",
       "    <tr>\n",
       "      <th rowspan=\"2\" valign=\"top\">Visalia</th>\n",
       "      <th>Delivery Truck</th>\n",
       "      <td>1006.90</td>\n",
       "    </tr>\n",
       "    <tr>\n",
       "      <th>Regular Air</th>\n",
       "      <td>1153.55</td>\n",
       "    </tr>\n",
       "    <tr>\n",
       "      <th rowspan=\"2\" valign=\"top\">West Hollywood</th>\n",
       "      <th>Delivery Truck</th>\n",
       "      <td>714.29</td>\n",
       "    </tr>\n",
       "    <tr>\n",
       "      <th>Regular Air</th>\n",
       "      <td>4379.89</td>\n",
       "    </tr>\n",
       "    <tr>\n",
       "      <th>Westminster</th>\n",
       "      <th>Regular Air</th>\n",
       "      <td>1038.73</td>\n",
       "    </tr>\n",
       "    <tr>\n",
       "      <th>Whittier</th>\n",
       "      <th>Regular Air</th>\n",
       "      <td>1093.76</td>\n",
       "    </tr>\n",
       "    <tr>\n",
       "      <th>Woodland</th>\n",
       "      <th>Regular Air</th>\n",
       "      <td>1951.58</td>\n",
       "    </tr>\n",
       "    <tr>\n",
       "      <th rowspan=\"2\" valign=\"top\">Yuba City</th>\n",
       "      <th>Delivery Truck</th>\n",
       "      <td>377.47</td>\n",
       "    </tr>\n",
       "    <tr>\n",
       "      <th>Express Air</th>\n",
       "      <td>98.96</td>\n",
       "    </tr>\n",
       "    <tr>\n",
       "      <th rowspan=\"2\" valign=\"top\">Yucaipa</th>\n",
       "      <th>Delivery Truck</th>\n",
       "      <td>6464.70</td>\n",
       "    </tr>\n",
       "    <tr>\n",
       "      <th>Regular Air</th>\n",
       "      <td>160.61</td>\n",
       "    </tr>\n",
       "    <tr>\n",
       "      <th>Total</th>\n",
       "      <th></th>\n",
       "      <td>636184.44</td>\n",
       "    </tr>\n",
       "  </tbody>\n",
       "</table>\n",
       "<p>258 rows × 1 columns</p>\n",
       "</div>"
      ],
      "text/plain": [
       "                                       sum\n",
       "                                     Sales\n",
       "City             Ship_Mode                \n",
       "Anaheim          Delivery Truck    1200.38\n",
       "                 Regular Air       2553.62\n",
       "Antioch          Regular Air         42.95\n",
       "Apple Valley     Regular Air       1920.93\n",
       "Atascadero       Delivery Truck     426.93\n",
       "                 Express Air       2154.90\n",
       "                 Regular Air       4154.92\n",
       "Bakersfield      Delivery Truck    2154.90\n",
       "                 Regular Air        697.05\n",
       "Berkeley         Delivery Truck    2998.39\n",
       "                 Express Air       2242.68\n",
       "                 Regular Air       2292.66\n",
       "Beverly Hills    Express Air         44.24\n",
       "                 Regular Air       3590.79\n",
       "Brentwood        Express Air         81.77\n",
       "                 Regular Air       1138.43\n",
       "Burbank          Delivery Truck     485.08\n",
       "                 Regular Air         46.22\n",
       "Calexico         Express Air        452.17\n",
       "                 Regular Air        526.92\n",
       "Camarillo        Express Air         48.99\n",
       "                 Regular Air       1722.91\n",
       "Carlsbad         Delivery Truck     908.91\n",
       "                 Express Air         68.34\n",
       "                 Regular Air        591.45\n",
       "Chico            Delivery Truck    2154.90\n",
       "                 Regular Air       1237.22\n",
       "Chula Vista      Delivery Truck    2154.90\n",
       "                 Regular Air       1020.12\n",
       "Citrus Heights   Delivery Truck     897.87\n",
       "...                                    ...\n",
       "Temecula         Delivery Truck    8089.06\n",
       "                 Regular Air       1623.72\n",
       "Thousand Oaks    Delivery Truck     334.30\n",
       "                 Express Air       1192.11\n",
       "                 Regular Air        608.18\n",
       "Torrance         Express Air         25.29\n",
       "                 Regular Air        917.98\n",
       "Tracy            Delivery Truck     280.18\n",
       "                 Express Air          8.11\n",
       "                 Regular Air        256.52\n",
       "Twentynine Palms Delivery Truck    6906.42\n",
       "                 Express Air       1525.67\n",
       "                 Regular Air       5616.22\n",
       "Vacaville        Delivery Truck    2154.90\n",
       "                 Express Air        340.42\n",
       "                 Regular Air       2444.29\n",
       "Vallejo          Express Air        327.83\n",
       "                 Regular Air       3059.54\n",
       "Visalia          Delivery Truck    1006.90\n",
       "                 Regular Air       1153.55\n",
       "West Hollywood   Delivery Truck     714.29\n",
       "                 Regular Air       4379.89\n",
       "Westminster      Regular Air       1038.73\n",
       "Whittier         Regular Air       1093.76\n",
       "Woodland         Regular Air       1951.58\n",
       "Yuba City        Delivery Truck     377.47\n",
       "                 Express Air         98.96\n",
       "Yucaipa          Delivery Truck    6464.70\n",
       "                 Regular Air        160.61\n",
       "Total                            636184.44\n",
       "\n",
       "[258 rows x 1 columns]"
      ]
     },
     "execution_count": 20,
     "metadata": {},
     "output_type": "execute_result"
    }
   ],
   "source": [
    "pd.pivot_table(order_details,'Sales',['City','Ship_Mode'],aggfunc=['sum'],margins=True, margins_name='Total')"
   ]
  },
  {
   "cell_type": "markdown",
   "metadata": {},
   "source": [
    "#### Total Orders delivered with various shipment modes on the basis of Order Priority "
   ]
  },
  {
   "cell_type": "code",
   "execution_count": 21,
   "metadata": {},
   "outputs": [
    {
     "data": {
      "text/html": [
       "<div>\n",
       "<style scoped>\n",
       "    .dataframe tbody tr th:only-of-type {\n",
       "        vertical-align: middle;\n",
       "    }\n",
       "\n",
       "    .dataframe tbody tr th {\n",
       "        vertical-align: top;\n",
       "    }\n",
       "\n",
       "    .dataframe thead th {\n",
       "        text-align: right;\n",
       "    }\n",
       "</style>\n",
       "<table border=\"1\" class=\"dataframe\">\n",
       "  <thead>\n",
       "    <tr style=\"text-align: right;\">\n",
       "      <th>Order_Priority</th>\n",
       "      <th>Critical</th>\n",
       "      <th>Critical</th>\n",
       "      <th>High</th>\n",
       "      <th>Low</th>\n",
       "      <th>Medium</th>\n",
       "      <th>Not Specified</th>\n",
       "      <th>Total</th>\n",
       "    </tr>\n",
       "    <tr>\n",
       "      <th>Ship_Mode</th>\n",
       "      <th></th>\n",
       "      <th></th>\n",
       "      <th></th>\n",
       "      <th></th>\n",
       "      <th></th>\n",
       "      <th></th>\n",
       "      <th></th>\n",
       "    </tr>\n",
       "  </thead>\n",
       "  <tbody>\n",
       "    <tr>\n",
       "      <th>Total</th>\n",
       "      <td>199</td>\n",
       "      <td>1</td>\n",
       "      <td>201</td>\n",
       "      <td>208</td>\n",
       "      <td>187</td>\n",
       "      <td>225</td>\n",
       "      <td>1021</td>\n",
       "    </tr>\n",
       "    <tr>\n",
       "      <th>Regular Air</th>\n",
       "      <td>143</td>\n",
       "      <td>1</td>\n",
       "      <td>156</td>\n",
       "      <td>152</td>\n",
       "      <td>139</td>\n",
       "      <td>160</td>\n",
       "      <td>751</td>\n",
       "    </tr>\n",
       "    <tr>\n",
       "      <th>Delivery Truck</th>\n",
       "      <td>26</td>\n",
       "      <td>0</td>\n",
       "      <td>25</td>\n",
       "      <td>32</td>\n",
       "      <td>31</td>\n",
       "      <td>37</td>\n",
       "      <td>151</td>\n",
       "    </tr>\n",
       "    <tr>\n",
       "      <th>Express Air</th>\n",
       "      <td>30</td>\n",
       "      <td>0</td>\n",
       "      <td>20</td>\n",
       "      <td>24</td>\n",
       "      <td>17</td>\n",
       "      <td>28</td>\n",
       "      <td>119</td>\n",
       "    </tr>\n",
       "  </tbody>\n",
       "</table>\n",
       "</div>"
      ],
      "text/plain": [
       "Order_Priority  Critical  Critical   High  Low  Medium  Not Specified  Total\n",
       "Ship_Mode                                                                   \n",
       "Total                199          1   201  208     187            225   1021\n",
       "Regular Air          143          1   156  152     139            160    751\n",
       "Delivery Truck        26          0    25   32      31             37    151\n",
       "Express Air           30          0    20   24      17             28    119"
      ]
     },
     "execution_count": 21,
     "metadata": {},
     "output_type": "execute_result"
    }
   ],
   "source": [
    "df_shipmode_ordPrior=pd.crosstab(order_details.Ship_Mode,order_details.Order_Priority, margins=True, margins_name='Total')\n",
    "df_shipmode_ordPrior.reindex(df_shipmode_ordPrior['Total'].sort_values(ascending=False).index)"
   ]
  },
  {
   "cell_type": "markdown",
   "metadata": {},
   "source": [
    "#### Total Sales with Shipment Mode and Order Priority"
   ]
  },
  {
   "cell_type": "code",
   "execution_count": 24,
   "metadata": {},
   "outputs": [
    {
     "data": {
      "text/html": [
       "<div>\n",
       "<style scoped>\n",
       "    .dataframe tbody tr th:only-of-type {\n",
       "        vertical-align: middle;\n",
       "    }\n",
       "\n",
       "    .dataframe tbody tr th {\n",
       "        vertical-align: top;\n",
       "    }\n",
       "\n",
       "    .dataframe thead tr th {\n",
       "        text-align: left;\n",
       "    }\n",
       "\n",
       "    .dataframe thead tr:last-of-type th {\n",
       "        text-align: right;\n",
       "    }\n",
       "</style>\n",
       "<table border=\"1\" class=\"dataframe\">\n",
       "  <thead>\n",
       "    <tr>\n",
       "      <th></th>\n",
       "      <th></th>\n",
       "      <th>sum</th>\n",
       "    </tr>\n",
       "    <tr>\n",
       "      <th></th>\n",
       "      <th></th>\n",
       "      <th>Sales</th>\n",
       "    </tr>\n",
       "    <tr>\n",
       "      <th>Ship_Mode</th>\n",
       "      <th>Order_Priority</th>\n",
       "      <th></th>\n",
       "    </tr>\n",
       "  </thead>\n",
       "  <tbody>\n",
       "    <tr>\n",
       "      <th rowspan=\"5\" valign=\"top\">Delivery Truck</th>\n",
       "      <th>Critical</th>\n",
       "      <td>36155.65</td>\n",
       "    </tr>\n",
       "    <tr>\n",
       "      <th>High</th>\n",
       "      <td>38892.36</td>\n",
       "    </tr>\n",
       "    <tr>\n",
       "      <th>Low</th>\n",
       "      <td>47248.04</td>\n",
       "    </tr>\n",
       "    <tr>\n",
       "      <th>Medium</th>\n",
       "      <td>45175.79</td>\n",
       "    </tr>\n",
       "    <tr>\n",
       "      <th>Not Specified</th>\n",
       "      <td>55503.57</td>\n",
       "    </tr>\n",
       "    <tr>\n",
       "      <th rowspan=\"5\" valign=\"top\">Express Air</th>\n",
       "      <th>Critical</th>\n",
       "      <td>15497.91</td>\n",
       "    </tr>\n",
       "    <tr>\n",
       "      <th>High</th>\n",
       "      <td>17013.68</td>\n",
       "    </tr>\n",
       "    <tr>\n",
       "      <th>Low</th>\n",
       "      <td>16206.85</td>\n",
       "    </tr>\n",
       "    <tr>\n",
       "      <th>Medium</th>\n",
       "      <td>11486.09</td>\n",
       "    </tr>\n",
       "    <tr>\n",
       "      <th>Not Specified</th>\n",
       "      <td>10173.84</td>\n",
       "    </tr>\n",
       "    <tr>\n",
       "      <th rowspan=\"6\" valign=\"top\">Regular Air</th>\n",
       "      <th>Critical</th>\n",
       "      <td>62796.91</td>\n",
       "    </tr>\n",
       "    <tr>\n",
       "      <th>Critical</th>\n",
       "      <td>124.81</td>\n",
       "    </tr>\n",
       "    <tr>\n",
       "      <th>High</th>\n",
       "      <td>65019.37</td>\n",
       "    </tr>\n",
       "    <tr>\n",
       "      <th>Low</th>\n",
       "      <td>77633.41</td>\n",
       "    </tr>\n",
       "    <tr>\n",
       "      <th>Medium</th>\n",
       "      <td>66286.49</td>\n",
       "    </tr>\n",
       "    <tr>\n",
       "      <th>Not Specified</th>\n",
       "      <td>70969.67</td>\n",
       "    </tr>\n",
       "    <tr>\n",
       "      <th>Total</th>\n",
       "      <th></th>\n",
       "      <td>636184.44</td>\n",
       "    </tr>\n",
       "  </tbody>\n",
       "</table>\n",
       "</div>"
      ],
      "text/plain": [
       "                                     sum\n",
       "                                   Sales\n",
       "Ship_Mode      Order_Priority           \n",
       "Delivery Truck Critical         36155.65\n",
       "               High             38892.36\n",
       "               Low              47248.04\n",
       "               Medium           45175.79\n",
       "               Not Specified    55503.57\n",
       "Express Air    Critical         15497.91\n",
       "               High             17013.68\n",
       "               Low              16206.85\n",
       "               Medium           11486.09\n",
       "               Not Specified    10173.84\n",
       "Regular Air    Critical         62796.91\n",
       "               Critical           124.81\n",
       "               High             65019.37\n",
       "               Low              77633.41\n",
       "               Medium           66286.49\n",
       "               Not Specified    70969.67\n",
       "Total                          636184.44"
      ]
     },
     "execution_count": 24,
     "metadata": {},
     "output_type": "execute_result"
    }
   ],
   "source": [
    "pd.pivot_table(order_details,'Sales',['Ship_Mode','Order_Priority'],aggfunc=['sum'],margins=True, margins_name='Total')"
   ]
  },
  {
   "cell_type": "code",
   "execution_count": 121,
   "metadata": {},
   "outputs": [
    {
     "data": {
      "text/plain": [
       "<matplotlib.axes._subplots.AxesSubplot at 0x16733d51860>"
      ]
     },
     "execution_count": 121,
     "metadata": {},
     "output_type": "execute_result"
    },
    {
     "data": {
      "image/png": "[encoded data removed]",
      "text/plain": [
       "<Figure size 432x288 with 1 Axes>"
      ]
     },
     "metadata": {
      "needs_background": "light"
     },
     "output_type": "display_data"
    }
   ],
   "source": [
    "order_details.groupby(['Ship_Mode','Order_Priority']).Sales.sum().sort_values(ascending=False)[:10].plot.bar()"
   ]
  },
  {
   "cell_type": "markdown",
   "metadata": {},
   "source": [
    "#### City-wise Shipment costs with Shipment mode"
   ]
  },
  {
   "cell_type": "code",
   "execution_count": 115,
   "metadata": {},
   "outputs": [
    {
     "data": {
      "text/html": [
       "<div>\n",
       "<style scoped>\n",
       "    .dataframe tbody tr th:only-of-type {\n",
       "        vertical-align: middle;\n",
       "    }\n",
       "\n",
       "    .dataframe tbody tr th {\n",
       "        vertical-align: top;\n",
       "    }\n",
       "\n",
       "    .dataframe thead tr th {\n",
       "        text-align: left;\n",
       "    }\n",
       "\n",
       "    .dataframe thead tr:last-of-type th {\n",
       "        text-align: right;\n",
       "    }\n",
       "</style>\n",
       "<table border=\"1\" class=\"dataframe\">\n",
       "  <thead>\n",
       "    <tr>\n",
       "      <th></th>\n",
       "      <th></th>\n",
       "      <th>sum</th>\n",
       "    </tr>\n",
       "    <tr>\n",
       "      <th></th>\n",
       "      <th></th>\n",
       "      <th>Shipping_Cost</th>\n",
       "    </tr>\n",
       "    <tr>\n",
       "      <th>City</th>\n",
       "      <th>Ship_Mode</th>\n",
       "      <th></th>\n",
       "    </tr>\n",
       "  </thead>\n",
       "  <tbody>\n",
       "    <tr>\n",
       "      <th rowspan=\"2\" valign=\"top\">Anaheim</th>\n",
       "      <th>Delivery Truck</th>\n",
       "      <td>30.060</td>\n",
       "    </tr>\n",
       "    <tr>\n",
       "      <th>Regular Air</th>\n",
       "      <td>39.080</td>\n",
       "    </tr>\n",
       "    <tr>\n",
       "      <th>Antioch</th>\n",
       "      <th>Regular Air</th>\n",
       "      <td>13.270</td>\n",
       "    </tr>\n",
       "    <tr>\n",
       "      <th>Apple Valley</th>\n",
       "      <th>Regular Air</th>\n",
       "      <td>47.465</td>\n",
       "    </tr>\n",
       "    <tr>\n",
       "      <th rowspan=\"3\" valign=\"top\">Atascadero</th>\n",
       "      <th>Delivery Truck</th>\n",
       "      <td>30.725</td>\n",
       "    </tr>\n",
       "    <tr>\n",
       "      <th>Express Air</th>\n",
       "      <td>24.490</td>\n",
       "    </tr>\n",
       "    <tr>\n",
       "      <th>Regular Air</th>\n",
       "      <td>76.195</td>\n",
       "    </tr>\n",
       "    <tr>\n",
       "      <th rowspan=\"2\" valign=\"top\">Bakersfield</th>\n",
       "      <th>Delivery Truck</th>\n",
       "      <td>29.210</td>\n",
       "    </tr>\n",
       "    <tr>\n",
       "      <th>Regular Air</th>\n",
       "      <td>38.030</td>\n",
       "    </tr>\n",
       "    <tr>\n",
       "      <th rowspan=\"3\" valign=\"top\">Berkeley</th>\n",
       "      <th>Delivery Truck</th>\n",
       "      <td>61.450</td>\n",
       "    </tr>\n",
       "    <tr>\n",
       "      <th>Express Air</th>\n",
       "      <td>28.410</td>\n",
       "    </tr>\n",
       "    <tr>\n",
       "      <th>Regular Air</th>\n",
       "      <td>41.180</td>\n",
       "    </tr>\n",
       "    <tr>\n",
       "      <th rowspan=\"2\" valign=\"top\">Beverly Hills</th>\n",
       "      <th>Express Air</th>\n",
       "      <td>4.620</td>\n",
       "    </tr>\n",
       "    <tr>\n",
       "      <th>Regular Air</th>\n",
       "      <td>53.340</td>\n",
       "    </tr>\n",
       "    <tr>\n",
       "      <th rowspan=\"2\" valign=\"top\">Brentwood</th>\n",
       "      <th>Express Air</th>\n",
       "      <td>11.150</td>\n",
       "    </tr>\n",
       "    <tr>\n",
       "      <th>Regular Air</th>\n",
       "      <td>60.895</td>\n",
       "    </tr>\n",
       "    <tr>\n",
       "      <th rowspan=\"2\" valign=\"top\">Burbank</th>\n",
       "      <th>Delivery Truck</th>\n",
       "      <td>30.725</td>\n",
       "    </tr>\n",
       "    <tr>\n",
       "      <th>Regular Air</th>\n",
       "      <td>5.000</td>\n",
       "    </tr>\n",
       "    <tr>\n",
       "      <th rowspan=\"2\" valign=\"top\">Calexico</th>\n",
       "      <th>Express Air</th>\n",
       "      <td>9.990</td>\n",
       "    </tr>\n",
       "    <tr>\n",
       "      <th>Regular Air</th>\n",
       "      <td>27.990</td>\n",
       "    </tr>\n",
       "    <tr>\n",
       "      <th rowspan=\"2\" valign=\"top\">Camarillo</th>\n",
       "      <th>Express Air</th>\n",
       "      <td>2.380</td>\n",
       "    </tr>\n",
       "    <tr>\n",
       "      <th>Regular Air</th>\n",
       "      <td>27.270</td>\n",
       "    </tr>\n",
       "    <tr>\n",
       "      <th rowspan=\"3\" valign=\"top\">Carlsbad</th>\n",
       "      <th>Delivery Truck</th>\n",
       "      <td>29.200</td>\n",
       "    </tr>\n",
       "    <tr>\n",
       "      <th>Express Air</th>\n",
       "      <td>5.140</td>\n",
       "    </tr>\n",
       "    <tr>\n",
       "      <th>Regular Air</th>\n",
       "      <td>41.870</td>\n",
       "    </tr>\n",
       "    <tr>\n",
       "      <th rowspan=\"2\" valign=\"top\">Chico</th>\n",
       "      <th>Delivery Truck</th>\n",
       "      <td>30.725</td>\n",
       "    </tr>\n",
       "    <tr>\n",
       "      <th>Regular Air</th>\n",
       "      <td>19.690</td>\n",
       "    </tr>\n",
       "    <tr>\n",
       "      <th rowspan=\"2\" valign=\"top\">Chula Vista</th>\n",
       "      <th>Delivery Truck</th>\n",
       "      <td>30.725</td>\n",
       "    </tr>\n",
       "    <tr>\n",
       "      <th>Regular Air</th>\n",
       "      <td>39.010</td>\n",
       "    </tr>\n",
       "    <tr>\n",
       "      <th>Citrus Heights</th>\n",
       "      <th>Delivery Truck</th>\n",
       "      <td>30.725</td>\n",
       "    </tr>\n",
       "    <tr>\n",
       "      <th>...</th>\n",
       "      <th>...</th>\n",
       "      <td>...</td>\n",
       "    </tr>\n",
       "    <tr>\n",
       "      <th rowspan=\"2\" valign=\"top\">Temecula</th>\n",
       "      <th>Delivery Truck</th>\n",
       "      <td>120.850</td>\n",
       "    </tr>\n",
       "    <tr>\n",
       "      <th>Regular Air</th>\n",
       "      <td>31.520</td>\n",
       "    </tr>\n",
       "    <tr>\n",
       "      <th rowspan=\"3\" valign=\"top\">Thousand Oaks</th>\n",
       "      <th>Delivery Truck</th>\n",
       "      <td>30.725</td>\n",
       "    </tr>\n",
       "    <tr>\n",
       "      <th>Express Air</th>\n",
       "      <td>36.915</td>\n",
       "    </tr>\n",
       "    <tr>\n",
       "      <th>Regular Air</th>\n",
       "      <td>17.770</td>\n",
       "    </tr>\n",
       "    <tr>\n",
       "      <th rowspan=\"2\" valign=\"top\">Torrance</th>\n",
       "      <th>Express Air</th>\n",
       "      <td>5.410</td>\n",
       "    </tr>\n",
       "    <tr>\n",
       "      <th>Regular Air</th>\n",
       "      <td>28.130</td>\n",
       "    </tr>\n",
       "    <tr>\n",
       "      <th rowspan=\"3\" valign=\"top\">Tracy</th>\n",
       "      <th>Delivery Truck</th>\n",
       "      <td>30.725</td>\n",
       "    </tr>\n",
       "    <tr>\n",
       "      <th>Express Air</th>\n",
       "      <td>2.030</td>\n",
       "    </tr>\n",
       "    <tr>\n",
       "      <th>Regular Air</th>\n",
       "      <td>11.850</td>\n",
       "    </tr>\n",
       "    <tr>\n",
       "      <th rowspan=\"3\" valign=\"top\">Twentynine Palms</th>\n",
       "      <th>Delivery Truck</th>\n",
       "      <td>130.905</td>\n",
       "    </tr>\n",
       "    <tr>\n",
       "      <th>Express Air</th>\n",
       "      <td>23.350</td>\n",
       "    </tr>\n",
       "    <tr>\n",
       "      <th>Regular Air</th>\n",
       "      <td>132.385</td>\n",
       "    </tr>\n",
       "    <tr>\n",
       "      <th rowspan=\"3\" valign=\"top\">Vacaville</th>\n",
       "      <th>Delivery Truck</th>\n",
       "      <td>30.725</td>\n",
       "    </tr>\n",
       "    <tr>\n",
       "      <th>Express Air</th>\n",
       "      <td>30.725</td>\n",
       "    </tr>\n",
       "    <tr>\n",
       "      <th>Regular Air</th>\n",
       "      <td>24.110</td>\n",
       "    </tr>\n",
       "    <tr>\n",
       "      <th rowspan=\"2\" valign=\"top\">Vallejo</th>\n",
       "      <th>Express Air</th>\n",
       "      <td>16.010</td>\n",
       "    </tr>\n",
       "    <tr>\n",
       "      <th>Regular Air</th>\n",
       "      <td>44.110</td>\n",
       "    </tr>\n",
       "    <tr>\n",
       "      <th rowspan=\"2\" valign=\"top\">Visalia</th>\n",
       "      <th>Delivery Truck</th>\n",
       "      <td>30.725</td>\n",
       "    </tr>\n",
       "    <tr>\n",
       "      <th>Regular Air</th>\n",
       "      <td>29.910</td>\n",
       "    </tr>\n",
       "    <tr>\n",
       "      <th rowspan=\"2\" valign=\"top\">West Hollywood</th>\n",
       "      <th>Delivery Truck</th>\n",
       "      <td>30.725</td>\n",
       "    </tr>\n",
       "    <tr>\n",
       "      <th>Regular Air</th>\n",
       "      <td>68.060</td>\n",
       "    </tr>\n",
       "    <tr>\n",
       "      <th>Westminster</th>\n",
       "      <th>Regular Air</th>\n",
       "      <td>18.150</td>\n",
       "    </tr>\n",
       "    <tr>\n",
       "      <th>Whittier</th>\n",
       "      <th>Regular Air</th>\n",
       "      <td>26.210</td>\n",
       "    </tr>\n",
       "    <tr>\n",
       "      <th>Woodland</th>\n",
       "      <th>Regular Air</th>\n",
       "      <td>13.970</td>\n",
       "    </tr>\n",
       "    <tr>\n",
       "      <th rowspan=\"2\" valign=\"top\">Yuba City</th>\n",
       "      <th>Delivery Truck</th>\n",
       "      <td>30.725</td>\n",
       "    </tr>\n",
       "    <tr>\n",
       "      <th>Express Air</th>\n",
       "      <td>6.750</td>\n",
       "    </tr>\n",
       "    <tr>\n",
       "      <th rowspan=\"2\" valign=\"top\">Yucaipa</th>\n",
       "      <th>Delivery Truck</th>\n",
       "      <td>88.485</td>\n",
       "    </tr>\n",
       "    <tr>\n",
       "      <th>Regular Air</th>\n",
       "      <td>1.990</td>\n",
       "    </tr>\n",
       "    <tr>\n",
       "      <th>Total</th>\n",
       "      <th></th>\n",
       "      <td>10739.165</td>\n",
       "    </tr>\n",
       "  </tbody>\n",
       "</table>\n",
       "<p>258 rows × 1 columns</p>\n",
       "</div>"
      ],
      "text/plain": [
       "                                          sum\n",
       "                                Shipping_Cost\n",
       "City             Ship_Mode                   \n",
       "Anaheim          Delivery Truck        30.060\n",
       "                 Regular Air           39.080\n",
       "Antioch          Regular Air           13.270\n",
       "Apple Valley     Regular Air           47.465\n",
       "Atascadero       Delivery Truck        30.725\n",
       "                 Express Air           24.490\n",
       "                 Regular Air           76.195\n",
       "Bakersfield      Delivery Truck        29.210\n",
       "                 Regular Air           38.030\n",
       "Berkeley         Delivery Truck        61.450\n",
       "                 Express Air           28.410\n",
       "                 Regular Air           41.180\n",
       "Beverly Hills    Express Air            4.620\n",
       "                 Regular Air           53.340\n",
       "Brentwood        Express Air           11.150\n",
       "                 Regular Air           60.895\n",
       "Burbank          Delivery Truck        30.725\n",
       "                 Regular Air            5.000\n",
       "Calexico         Express Air            9.990\n",
       "                 Regular Air           27.990\n",
       "Camarillo        Express Air            2.380\n",
       "                 Regular Air           27.270\n",
       "Carlsbad         Delivery Truck        29.200\n",
       "                 Express Air            5.140\n",
       "                 Regular Air           41.870\n",
       "Chico            Delivery Truck        30.725\n",
       "                 Regular Air           19.690\n",
       "Chula Vista      Delivery Truck        30.725\n",
       "                 Regular Air           39.010\n",
       "Citrus Heights   Delivery Truck        30.725\n",
       "...                                       ...\n",
       "Temecula         Delivery Truck       120.850\n",
       "                 Regular Air           31.520\n",
       "Thousand Oaks    Delivery Truck        30.725\n",
       "                 Express Air           36.915\n",
       "                 Regular Air           17.770\n",
       "Torrance         Express Air            5.410\n",
       "                 Regular Air           28.130\n",
       "Tracy            Delivery Truck        30.725\n",
       "                 Express Air            2.030\n",
       "                 Regular Air           11.850\n",
       "Twentynine Palms Delivery Truck       130.905\n",
       "                 Express Air           23.350\n",
       "                 Regular Air          132.385\n",
       "Vacaville        Delivery Truck        30.725\n",
       "                 Express Air           30.725\n",
       "                 Regular Air           24.110\n",
       "Vallejo          Express Air           16.010\n",
       "                 Regular Air           44.110\n",
       "Visalia          Delivery Truck        30.725\n",
       "                 Regular Air           29.910\n",
       "West Hollywood   Delivery Truck        30.725\n",
       "                 Regular Air           68.060\n",
       "Westminster      Regular Air           18.150\n",
       "Whittier         Regular Air           26.210\n",
       "Woodland         Regular Air           13.970\n",
       "Yuba City        Delivery Truck        30.725\n",
       "                 Express Air            6.750\n",
       "Yucaipa          Delivery Truck        88.485\n",
       "                 Regular Air            1.990\n",
       "Total                               10739.165\n",
       "\n",
       "[258 rows x 1 columns]"
      ]
     },
     "execution_count": 115,
     "metadata": {},
     "output_type": "execute_result"
    }
   ],
   "source": [
    "pd.pivot_table(order_details,'Shipping_Cost',['City','Ship_Mode'],aggfunc=['sum'],margins=True, margins_name='Total')"
   ]
  },
  {
   "cell_type": "code",
   "execution_count": 120,
   "metadata": {},
   "outputs": [
    {
     "data": {
      "text/plain": [
       "<matplotlib.axes._subplots.AxesSubplot at 0x16733f50208>"
      ]
     },
     "execution_count": 120,
     "metadata": {},
     "output_type": "execute_result"
    },
    {
     "data": {
      "image/png": "[encoded data removed]",
      "text/plain": [
       "<Figure size 432x288 with 1 Axes>"
      ]
     },
     "metadata": {
      "needs_background": "light"
     },
     "output_type": "display_data"
    }
   ],
   "source": [
    "order_details.groupby(['Ship_Mode','City']).Shipping_Cost.sum().sort_values(ascending=False)[:10].plot.bar()"
   ]
  },
  {
   "cell_type": "markdown",
   "metadata": {},
   "source": [
    "#### Total Shipment costs across shipment modes"
   ]
  },
  {
   "cell_type": "code",
   "execution_count": 30,
   "metadata": {},
   "outputs": [
    {
     "data": {
      "text/html": [
       "<div>\n",
       "<style scoped>\n",
       "    .dataframe tbody tr th:only-of-type {\n",
       "        vertical-align: middle;\n",
       "    }\n",
       "\n",
       "    .dataframe tbody tr th {\n",
       "        vertical-align: top;\n",
       "    }\n",
       "\n",
       "    .dataframe thead tr th {\n",
       "        text-align: left;\n",
       "    }\n",
       "\n",
       "    .dataframe thead tr:last-of-type th {\n",
       "        text-align: right;\n",
       "    }\n",
       "</style>\n",
       "<table border=\"1\" class=\"dataframe\">\n",
       "  <thead>\n",
       "    <tr>\n",
       "      <th></th>\n",
       "      <th>sum</th>\n",
       "    </tr>\n",
       "    <tr>\n",
       "      <th></th>\n",
       "      <th>Shipping_Cost</th>\n",
       "    </tr>\n",
       "    <tr>\n",
       "      <th>Ship_Mode</th>\n",
       "      <th></th>\n",
       "    </tr>\n",
       "  </thead>\n",
       "  <tbody>\n",
       "    <tr>\n",
       "      <th>Delivery Truck</th>\n",
       "      <td>4347.950</td>\n",
       "    </tr>\n",
       "    <tr>\n",
       "      <th>Express Air</th>\n",
       "      <td>938.390</td>\n",
       "    </tr>\n",
       "    <tr>\n",
       "      <th>Regular Air</th>\n",
       "      <td>5452.825</td>\n",
       "    </tr>\n",
       "    <tr>\n",
       "      <th>Total</th>\n",
       "      <td>10739.165</td>\n",
       "    </tr>\n",
       "  </tbody>\n",
       "</table>\n",
       "</div>"
      ],
      "text/plain": [
       "                         sum\n",
       "               Shipping_Cost\n",
       "Ship_Mode                   \n",
       "Delivery Truck      4347.950\n",
       "Express Air          938.390\n",
       "Regular Air         5452.825\n",
       "Total              10739.165"
      ]
     },
     "execution_count": 30,
     "metadata": {},
     "output_type": "execute_result"
    }
   ],
   "source": [
    "pd.pivot_table(order_details,'Shipping_Cost','Ship_Mode',aggfunc=['sum'],margins=True, margins_name='Total')"
   ]
  },
  {
   "cell_type": "code",
   "execution_count": 34,
   "metadata": {},
   "outputs": [
    {
     "data": {
      "text/plain": [
       "<matplotlib.axes._subplots.AxesSubplot at 0x16730876da0>"
      ]
     },
     "execution_count": 34,
     "metadata": {},
     "output_type": "execute_result"
    },
    {
     "data": {
      "image/png": "[encoded data removed]",
      "text/plain": [
       "<Figure size 432x288 with 1 Axes>"
      ]
     },
     "metadata": {
      "needs_background": "light"
     },
     "output_type": "display_data"
    }
   ],
   "source": [
    "order_details.groupby('Ship_Mode').Shipping_Cost.sum().sort_values(ascending=False)[:3].plot.bar()"
   ]
  },
  {
   "cell_type": "code",
   "execution_count": 140,
   "metadata": {},
   "outputs": [],
   "source": [
    "#pd.pivot_table(order_details,'Shipping_Cost','Order_Priority',aggfunc=['sum'],margins=True, margins_name='Total')"
   ]
  },
  {
   "cell_type": "markdown",
   "metadata": {},
   "source": [
    "#### Sales across Order Priority"
   ]
  },
  {
   "cell_type": "code",
   "execution_count": 139,
   "metadata": {},
   "outputs": [
    {
     "data": {
      "text/html": [
       "<div>\n",
       "<style scoped>\n",
       "    .dataframe tbody tr th:only-of-type {\n",
       "        vertical-align: middle;\n",
       "    }\n",
       "\n",
       "    .dataframe tbody tr th {\n",
       "        vertical-align: top;\n",
       "    }\n",
       "\n",
       "    .dataframe thead tr th {\n",
       "        text-align: left;\n",
       "    }\n",
       "\n",
       "    .dataframe thead tr:last-of-type th {\n",
       "        text-align: right;\n",
       "    }\n",
       "</style>\n",
       "<table border=\"1\" class=\"dataframe\">\n",
       "  <thead>\n",
       "    <tr>\n",
       "      <th></th>\n",
       "      <th>sum</th>\n",
       "    </tr>\n",
       "    <tr>\n",
       "      <th></th>\n",
       "      <th>Sales</th>\n",
       "    </tr>\n",
       "    <tr>\n",
       "      <th>Order_Priority</th>\n",
       "      <th></th>\n",
       "    </tr>\n",
       "  </thead>\n",
       "  <tbody>\n",
       "    <tr>\n",
       "      <th>Critical</th>\n",
       "      <td>114450.47</td>\n",
       "    </tr>\n",
       "    <tr>\n",
       "      <th>Critical</th>\n",
       "      <td>124.81</td>\n",
       "    </tr>\n",
       "    <tr>\n",
       "      <th>High</th>\n",
       "      <td>120925.41</td>\n",
       "    </tr>\n",
       "    <tr>\n",
       "      <th>Low</th>\n",
       "      <td>141088.30</td>\n",
       "    </tr>\n",
       "    <tr>\n",
       "      <th>Medium</th>\n",
       "      <td>122948.37</td>\n",
       "    </tr>\n",
       "    <tr>\n",
       "      <th>Not Specified</th>\n",
       "      <td>136647.08</td>\n",
       "    </tr>\n",
       "    <tr>\n",
       "      <th>Total</th>\n",
       "      <td>636184.44</td>\n",
       "    </tr>\n",
       "  </tbody>\n",
       "</table>\n",
       "</div>"
      ],
      "text/plain": [
       "                      sum\n",
       "                    Sales\n",
       "Order_Priority           \n",
       "Critical        114450.47\n",
       "Critical           124.81\n",
       "High            120925.41\n",
       "Low             141088.30\n",
       "Medium          122948.37\n",
       "Not Specified   136647.08\n",
       "Total           636184.44"
      ]
     },
     "execution_count": 139,
     "metadata": {},
     "output_type": "execute_result"
    }
   ],
   "source": [
    "pd.pivot_table(order_details,'Sales','Order_Priority',aggfunc=['sum'],margins=True, margins_name='Total')"
   ]
  },
  {
   "cell_type": "code",
   "execution_count": 138,
   "metadata": {},
   "outputs": [
    {
     "data": {
      "text/plain": [
       "<matplotlib.axes._subplots.AxesSubplot at 0x1673509a470>"
      ]
     },
     "execution_count": 138,
     "metadata": {},
     "output_type": "execute_result"
    },
    {
     "data": {
      "image/png": "[encoded data removed]",
      "text/plain": [
       "<Figure size 432x288 with 1 Axes>"
      ]
     },
     "metadata": {
      "needs_background": "light"
     },
     "output_type": "display_data"
    }
   ],
   "source": [
    "order_details.groupby('Order_Priority').Sales.sum().sort_values(ascending=False).plot.bar()"
   ]
  },
  {
   "cell_type": "markdown",
   "metadata": {},
   "source": [
    "#### Total Product Category wise Sales"
   ]
  },
  {
   "cell_type": "code",
   "execution_count": 38,
   "metadata": {},
   "outputs": [
    {
     "data": {
      "text/plain": [
       "<matplotlib.axes._subplots.AxesSubplot at 0x16730f97d30>"
      ]
     },
     "execution_count": 38,
     "metadata": {},
     "output_type": "execute_result"
    },
    {
     "data": {
      "image/png": "[encoded data removed]",
      "text/plain": [
       "<Figure size 432x288 with 1 Axes>"
      ]
     },
     "metadata": {
      "needs_background": "light"
     },
     "output_type": "display_data"
    }
   ],
   "source": [
    "order_details.groupby('Product_Category').Sales.sum().sort_values(ascending=False).plot.bar()"
   ]
  },
  {
   "cell_type": "markdown",
   "metadata": {},
   "source": [
    "#### Total Products Ordered (Category-wise)"
   ]
  },
  {
   "cell_type": "code",
   "execution_count": 42,
   "metadata": {},
   "outputs": [
    {
     "data": {
      "text/html": [
       "<div>\n",
       "<style scoped>\n",
       "    .dataframe tbody tr th:only-of-type {\n",
       "        vertical-align: middle;\n",
       "    }\n",
       "\n",
       "    .dataframe tbody tr th {\n",
       "        vertical-align: top;\n",
       "    }\n",
       "\n",
       "    .dataframe thead tr th {\n",
       "        text-align: left;\n",
       "    }\n",
       "\n",
       "    .dataframe thead tr:last-of-type th {\n",
       "        text-align: right;\n",
       "    }\n",
       "</style>\n",
       "<table border=\"1\" class=\"dataframe\">\n",
       "  <thead>\n",
       "    <tr>\n",
       "      <th></th>\n",
       "      <th>sum</th>\n",
       "    </tr>\n",
       "    <tr>\n",
       "      <th></th>\n",
       "      <th>Quantity_ordered_new</th>\n",
       "    </tr>\n",
       "    <tr>\n",
       "      <th>Product_Category</th>\n",
       "      <th></th>\n",
       "    </tr>\n",
       "  </thead>\n",
       "  <tbody>\n",
       "    <tr>\n",
       "      <th>Furniture</th>\n",
       "      <td>3388.0</td>\n",
       "    </tr>\n",
       "    <tr>\n",
       "      <th>Office Supplies</th>\n",
       "      <td>8941.0</td>\n",
       "    </tr>\n",
       "    <tr>\n",
       "      <th>Technology</th>\n",
       "      <td>3014.0</td>\n",
       "    </tr>\n",
       "    <tr>\n",
       "      <th>Total</th>\n",
       "      <td>15343.0</td>\n",
       "    </tr>\n",
       "  </tbody>\n",
       "</table>\n",
       "</div>"
      ],
      "text/plain": [
       "                                  sum\n",
       "                 Quantity_ordered_new\n",
       "Product_Category                     \n",
       "Furniture                      3388.0\n",
       "Office Supplies                8941.0\n",
       "Technology                     3014.0\n",
       "Total                         15343.0"
      ]
     },
     "execution_count": 42,
     "metadata": {},
     "output_type": "execute_result"
    }
   ],
   "source": [
    "pd.pivot_table(order_details,'Quantity_ordered_new','Product_Category',aggfunc=['sum'],margins=True, margins_name='Total')"
   ]
  },
  {
   "cell_type": "code",
   "execution_count": 40,
   "metadata": {},
   "outputs": [
    {
     "data": {
      "text/plain": [
       "<matplotlib.axes._subplots.AxesSubplot at 0x16730f78518>"
      ]
     },
     "execution_count": 40,
     "metadata": {},
     "output_type": "execute_result"
    },
    {
     "data": {
      "image/png": "[encoded data removed]",
      "text/plain": [
       "<Figure size 432x288 with 1 Axes>"
      ]
     },
     "metadata": {
      "needs_background": "light"
     },
     "output_type": "display_data"
    }
   ],
   "source": [
    "order_details.groupby('Product_Category').Quantity_ordered_new.sum().sort_values(ascending=False).plot.bar()"
   ]
  },
  {
   "cell_type": "markdown",
   "metadata": {},
   "source": [
    "#### Year-wise Monthly Sales Performance"
   ]
  },
  {
   "cell_type": "code",
   "execution_count": 62,
   "metadata": {},
   "outputs": [
    {
     "data": {
      "text/plain": [
       "list"
      ]
     },
     "execution_count": 62,
     "metadata": {},
     "output_type": "execute_result"
    }
   ],
   "source": [
    "dates = order_details.Order_Date\n",
    "date_split = dates.tolist()\n",
    "type(date_split)"
   ]
  },
  {
   "cell_type": "code",
   "execution_count": 68,
   "metadata": {},
   "outputs": [],
   "source": [
    "#creating a datetime object from a string\n",
    "\n",
    "order_details['Day']=[d.split('-')[0] for d in order_details.Order_Date]  #object\n",
    "order_details['Month']=[d.split('-')[1] for d in order_details.Order_Date] #object\n",
    "order_details['Year']=[d.split('-')[2] for d in order_details.Order_Date] #object"
   ]
  },
  {
   "cell_type": "code",
   "execution_count": 76,
   "metadata": {},
   "outputs": [],
   "source": [
    " order_details['Month'] = order_details['Month'].astype(str).astype(int)"
   ]
  },
  {
   "cell_type": "code",
   "execution_count": 78,
   "metadata": {},
   "outputs": [],
   "source": [
    "order_details['Month'] = order_details['Month'].apply(lambda x: calendar.month_abbr[x])"
   ]
  },
  {
   "cell_type": "code",
   "execution_count": 77,
   "metadata": {},
   "outputs": [
    {
     "name": "stdout",
     "output_type": "stream",
     "text": [
      "<class 'pandas.core.frame.DataFrame'>\n",
      "RangeIndex: 1021 entries, 0 to 1020\n",
      "Data columns (total 18 columns):\n",
      "Order_Date              1021 non-null object\n",
      "Order_Priority          1021 non-null object\n",
      "Product_Category        1021 non-null object\n",
      "Product_Name            1021 non-null object\n",
      "City                    1021 non-null object\n",
      "Ship_Mode               1021 non-null object\n",
      "Ship_Date               1021 non-null object\n",
      "Discount                1021 non-null float64\n",
      "Unit_Price              1021 non-null float64\n",
      "Quantity_ordered_new    1021 non-null float64\n",
      "Product_Base_Margin     1011 non-null float64\n",
      "Shipping_Cost           1021 non-null float64\n",
      "Sales                   1021 non-null float64\n",
      "Profit                  1021 non-null float64\n",
      "Year                    1021 non-null object\n",
      "Month                   1021 non-null int32\n",
      "Day                     1021 non-null object\n",
      "Date                    1021 non-null object\n",
      "dtypes: float64(7), int32(1), object(10)\n",
      "memory usage: 139.7+ KB\n"
     ]
    }
   ],
   "source": [
    "order_details.info()"
   ]
  },
  {
   "cell_type": "code",
   "execution_count": 90,
   "metadata": {},
   "outputs": [
    {
     "data": {
      "text/html": [
       "<div>\n",
       "<style scoped>\n",
       "    .dataframe tbody tr th:only-of-type {\n",
       "        vertical-align: middle;\n",
       "    }\n",
       "\n",
       "    .dataframe tbody tr th {\n",
       "        vertical-align: top;\n",
       "    }\n",
       "\n",
       "    .dataframe thead th {\n",
       "        text-align: right;\n",
       "    }\n",
       "</style>\n",
       "<table border=\"1\" class=\"dataframe\">\n",
       "  <thead>\n",
       "    <tr style=\"text-align: right;\">\n",
       "      <th>Year</th>\n",
       "      <th>2010</th>\n",
       "      <th>2011</th>\n",
       "      <th>2012</th>\n",
       "      <th>2013</th>\n",
       "    </tr>\n",
       "    <tr>\n",
       "      <th>Month</th>\n",
       "      <th></th>\n",
       "      <th></th>\n",
       "      <th></th>\n",
       "      <th></th>\n",
       "    </tr>\n",
       "  </thead>\n",
       "  <tbody>\n",
       "    <tr>\n",
       "      <th>Jan</th>\n",
       "      <td>4999.74</td>\n",
       "      <td>5937.62</td>\n",
       "      <td>3896.89</td>\n",
       "      <td>13904.13</td>\n",
       "    </tr>\n",
       "    <tr>\n",
       "      <th>Feb</th>\n",
       "      <td>17741.55</td>\n",
       "      <td>5733.82</td>\n",
       "      <td>14851.93</td>\n",
       "      <td>11535.68</td>\n",
       "    </tr>\n",
       "    <tr>\n",
       "      <th>Mar</th>\n",
       "      <td>5906.61</td>\n",
       "      <td>6618.24</td>\n",
       "      <td>6154.75</td>\n",
       "      <td>20011.19</td>\n",
       "    </tr>\n",
       "    <tr>\n",
       "      <th>Apr</th>\n",
       "      <td>15248.51</td>\n",
       "      <td>12004.43</td>\n",
       "      <td>17210.52</td>\n",
       "      <td>17903.24</td>\n",
       "    </tr>\n",
       "    <tr>\n",
       "      <th>May</th>\n",
       "      <td>6544.11</td>\n",
       "      <td>12823.89</td>\n",
       "      <td>16641.99</td>\n",
       "      <td>17401.75</td>\n",
       "    </tr>\n",
       "    <tr>\n",
       "      <th>Jun</th>\n",
       "      <td>10635.78</td>\n",
       "      <td>9095.93</td>\n",
       "      <td>7272.60</td>\n",
       "      <td>17698.30</td>\n",
       "    </tr>\n",
       "    <tr>\n",
       "      <th>Jul</th>\n",
       "      <td>13889.15</td>\n",
       "      <td>16398.16</td>\n",
       "      <td>13221.51</td>\n",
       "      <td>12181.12</td>\n",
       "    </tr>\n",
       "    <tr>\n",
       "      <th>Aug</th>\n",
       "      <td>13337.51</td>\n",
       "      <td>10576.16</td>\n",
       "      <td>3091.62</td>\n",
       "      <td>24090.12</td>\n",
       "    </tr>\n",
       "    <tr>\n",
       "      <th>Sep</th>\n",
       "      <td>7635.03</td>\n",
       "      <td>19114.65</td>\n",
       "      <td>15052.16</td>\n",
       "      <td>12018.11</td>\n",
       "    </tr>\n",
       "    <tr>\n",
       "      <th>Oct</th>\n",
       "      <td>9771.63</td>\n",
       "      <td>16174.86</td>\n",
       "      <td>11205.49</td>\n",
       "      <td>18782.39</td>\n",
       "    </tr>\n",
       "    <tr>\n",
       "      <th>Nov</th>\n",
       "      <td>13837.81</td>\n",
       "      <td>17994.23</td>\n",
       "      <td>15955.14</td>\n",
       "      <td>20857.61</td>\n",
       "    </tr>\n",
       "    <tr>\n",
       "      <th>Dec</th>\n",
       "      <td>9455.75</td>\n",
       "      <td>21229.08</td>\n",
       "      <td>28204.65</td>\n",
       "      <td>14337.30</td>\n",
       "    </tr>\n",
       "  </tbody>\n",
       "</table>\n",
       "</div>"
      ],
      "text/plain": [
       "Year       2010      2011      2012      2013\n",
       "Month                                        \n",
       "Jan     4999.74   5937.62   3896.89  13904.13\n",
       "Feb    17741.55   5733.82  14851.93  11535.68\n",
       "Mar     5906.61   6618.24   6154.75  20011.19\n",
       "Apr    15248.51  12004.43  17210.52  17903.24\n",
       "May     6544.11  12823.89  16641.99  17401.75\n",
       "Jun    10635.78   9095.93   7272.60  17698.30\n",
       "Jul    13889.15  16398.16  13221.51  12181.12\n",
       "Aug    13337.51  10576.16   3091.62  24090.12\n",
       "Sep     7635.03  19114.65  15052.16  12018.11\n",
       "Oct     9771.63  16174.86  11205.49  18782.39\n",
       "Nov    13837.81  17994.23  15955.14  20857.61\n",
       "Dec     9455.75  21229.08  28204.65  14337.30"
      ]
     },
     "execution_count": 90,
     "metadata": {},
     "output_type": "execute_result"
    }
   ],
   "source": [
    "monthly_sales_data = pd.pivot_table(order_details, values='Sales', columns='Year', index='Month',aggfunc='sum')\n",
    "monthly_sales_data = monthly_sales_data.reindex(index=['Jan','Feb','Mar','Apr','May','Jun','Jul','Aug','Sep','Oct','Nov','Dec'])\n",
    "monthly_sales_data"
   ]
  },
  {
   "cell_type": "code",
   "execution_count": 91,
   "metadata": {},
   "outputs": [
    {
     "data": {
      "text/plain": [
       "<matplotlib.axes._subplots.AxesSubplot at 0x1672dbc4278>"
      ]
     },
     "execution_count": 91,
     "metadata": {},
     "output_type": "execute_result"
    },
    {
     "data": {
      "image/png": "[encoded data removed]",
      "text/plain": [
       "<Figure size 432x288 with 1 Axes>"
      ]
     },
     "metadata": {
      "needs_background": "light"
     },
     "output_type": "display_data"
    }
   ],
   "source": [
    "# to check month-wise plot for each year.\n",
    "monthly_sales_data.plot()"
   ]
  },
  {
   "cell_type": "code",
   "execution_count": 137,
   "metadata": {},
   "outputs": [
    {
     "data": {
      "text/plain": [
       "[<matplotlib.lines.Line2D at 0x16734244c18>,\n",
       " <matplotlib.lines.Line2D at 0x16734244a20>,\n",
       " <matplotlib.lines.Line2D at 0x16734244f60>,\n",
       " <matplotlib.lines.Line2D at 0x16734244fd0>]"
      ]
     },
     "execution_count": 137,
     "metadata": {},
     "output_type": "execute_result"
    },
    {
     "data": {
      "image/png": "[encoded data removed]",
      "text/plain": [
       "<Figure size 432x288 with 1 Axes>"
      ]
     },
     "metadata": {
      "needs_background": "light"
     },
     "output_type": "display_data"
    }
   ],
   "source": [
    "plt.plot(monthly_sales_data)"
   ]
  },
  {
   "cell_type": "markdown",
   "metadata": {},
   "source": [
    "#### Year-wise Profit/Loss Incurred"
   ]
  },
  {
   "cell_type": "code",
   "execution_count": 136,
   "metadata": {},
   "outputs": [
    {
     "data": {
      "text/plain": [
       "<matplotlib.axes._subplots.AxesSubplot at 0x16734047a58>"
      ]
     },
     "execution_count": 136,
     "metadata": {},
     "output_type": "execute_result"
    },
    {
     "data": {
      "image/png": "[encoded data removed]",
      "text/plain": [
       "<Figure size 432x288 with 1 Axes>"
      ]
     },
     "metadata": {
      "needs_background": "light"
     },
     "output_type": "display_data"
    }
   ],
   "source": [
    "order_details.groupby('Year').Profit.sum().sort_values().plot.bar()"
   ]
  },
  {
   "cell_type": "markdown",
   "metadata": {},
   "source": [
    "#### Yearly Sales Performance"
   ]
  },
  {
   "cell_type": "code",
   "execution_count": 134,
   "metadata": {},
   "outputs": [
    {
     "data": {
      "text/plain": [
       "<matplotlib.axes._subplots.AxesSubplot at 0x167347fa320>"
      ]
     },
     "execution_count": 134,
     "metadata": {},
     "output_type": "execute_result"
    },
    {
     "data": {
      "image/png": "[encoded data removed]",
      "text/plain": [
       "<Figure size 432x288 with 1 Axes>"
      ]
     },
     "metadata": {
      "needs_background": "light"
     },
     "output_type": "display_data"
    }
   ],
   "source": [
    "order_details.groupby('Year').Sales.sum().sort_values().plot.bar()"
   ]
  },
  {
   "cell_type": "markdown",
   "metadata": {},
   "source": [
    "#### Year-wise Sales performance across Product Categories"
   ]
  },
  {
   "cell_type": "code",
   "execution_count": 132,
   "metadata": {},
   "outputs": [
    {
     "data": {
      "text/plain": [
       "<matplotlib.axes._subplots.AxesSubplot at 0x16734756d68>"
      ]
     },
     "execution_count": 132,
     "metadata": {},
     "output_type": "execute_result"
    },
    {
     "data": {
      "image/png": "[encoded data removed]",
      "text/plain": [
       "<Figure size 432x288 with 1 Axes>"
      ]
     },
     "metadata": {
      "needs_background": "light"
     },
     "output_type": "display_data"
    }
   ],
   "source": [
    "sns.barplot(x='Year',y='Sales',hue = 'Product_Category', data=order_details, palette='winter_r')"
   ]
  },
  {
   "cell_type": "markdown",
   "metadata": {},
   "source": [
    "#### Year-wise Sales performance across shipment modes"
   ]
  },
  {
   "cell_type": "code",
   "execution_count": 126,
   "metadata": {},
   "outputs": [
    {
     "data": {
      "text/plain": [
       "<matplotlib.axes._subplots.AxesSubplot at 0x167345212b0>"
      ]
     },
     "execution_count": 126,
     "metadata": {},
     "output_type": "execute_result"
    },
    {
     "data": {
      "image/png": "[encoded data removed]",
      "text/plain": [
       "<Figure size 432x288 with 1 Axes>"
      ]
     },
     "metadata": {
      "needs_background": "light"
     },
     "output_type": "display_data"
    }
   ],
   "source": [
    "sns.barplot(x='Year',y='Sales',hue = 'Ship_Mode', data=order_details, palette='winter_r')"
   ]
  },
  {
   "cell_type": "markdown",
   "metadata": {},
   "source": [
    "#### Year-wise Profit/Loss Incurred across Product Categories"
   ]
  },
  {
   "cell_type": "code",
   "execution_count": 127,
   "metadata": {},
   "outputs": [
    {
     "data": {
      "text/plain": [
       "<matplotlib.axes._subplots.AxesSubplot at 0x167343d44e0>"
      ]
     },
     "execution_count": 127,
     "metadata": {},
     "output_type": "execute_result"
    },
    {
     "data": {
      "image/png": "[encoded data removed]",
      "text/plain": [
       "<Figure size 432x288 with 1 Axes>"
      ]
     },
     "metadata": {
      "needs_background": "light"
     },
     "output_type": "display_data"
    }
   ],
   "source": [
    "sns.barplot(x='Year',y='Profit',hue = 'Product_Category', data=order_details, palette='winter_r')"
   ]
  }
 ],
 "metadata": {
  "kernelspec": {
   "display_name": "Python 3",
   "language": "python",
   "name": "python3"
  },
  "language_info": {
   "codemirror_mode": {
    "name": "ipython",
    "version": 3
   },
   "file_extension": ".py",
   "mimetype": "text/x-python",
   "name": "python",
   "nbconvert_exporter": "python",
   "pygments_lexer": "ipython3",
   "version": "3.8.3"
  }
 },
 "nbformat": 4,
 "nbformat_minor": 2
}
